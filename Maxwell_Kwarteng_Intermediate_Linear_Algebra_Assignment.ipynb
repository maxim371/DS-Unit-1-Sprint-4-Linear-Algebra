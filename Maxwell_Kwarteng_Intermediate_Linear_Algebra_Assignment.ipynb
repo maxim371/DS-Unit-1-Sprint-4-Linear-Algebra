{
  "nbformat": 4,
  "nbformat_minor": 0,
  "metadata": {
    "colab": {
      "name": "Maxwell Kwarteng Intermediate Linear Algebra Assignment.ipynb",
      "version": "0.3.2",
      "provenance": [],
      "collapsed_sections": [],
      "include_colab_link": true
    },
    "kernelspec": {
      "name": "python3",
      "display_name": "Python 3"
    }
  },
  "cells": [
    {
      "cell_type": "markdown",
      "metadata": {
        "id": "view-in-github",
        "colab_type": "text"
      },
      "source": [
        "<a href=\"https://colab.research.google.com/github/maxim371/DS-Unit-1-Sprint-4-Linear-Algebra/blob/master/Maxwell_Kwarteng_Intermediate_Linear_Algebra_Assignment.ipynb\" target=\"_parent\"><img src=\"https://colab.research.google.com/assets/colab-badge.svg\" alt=\"Open In Colab\"/></a>"
      ]
    },
    {
      "cell_type": "markdown",
      "metadata": {
        "id": "GSNiYn8lr6nN",
        "colab_type": "text"
      },
      "source": [
        "# Statistics"
      ]
    },
    {
      "cell_type": "markdown",
      "metadata": {
        "id": "3d4izUhQvh2_",
        "colab_type": "text"
      },
      "source": [
        "## 1.1 Sales for the past week was the following amounts: [3505, 2400, 3027, 2798, 3700, 3250, 2689]. Without using library functions, what is the mean, variance, and standard deviation of of sales from last week? (for extra bonus points, write your own function that can calculate these two values for any sized list)"
      ]
    },
    {
      "cell_type": "code",
      "metadata": {
        "id": "w1iZfYvBtEA1",
        "colab_type": "code",
        "colab": {
          "base_uri": "https://localhost:8080/",
          "height": 51
        },
        "outputId": "c34b5903-2afb-4728-a7a0-5f23786f60e0"
      },
      "source": [
        "# vector mean\n",
        "from numpy import array\n",
        "from numpy import mean\n",
        "# define vector\n",
        "v = array([3505, 2400, 3027, 2798, 3700, 3250, 2689])\n",
        "print(v)\n",
        "# calculate mean\n",
        "result = mean(v)\n",
        "print(result)"
      ],
      "execution_count": 2,
      "outputs": [
        {
          "output_type": "stream",
          "text": [
            "[3505 2400 3027 2798 3700 3250 2689]\n",
            "3052.714285714286\n"
          ],
          "name": "stdout"
        }
      ]
    },
    {
      "cell_type": "code",
      "metadata": {
        "id": "ikvp6E74z6Ai",
        "colab_type": "code",
        "colab": {
          "base_uri": "https://localhost:8080/",
          "height": 51
        },
        "outputId": "cfe06369-e877-44dd-e202-b0146ded87e7"
      },
      "source": [
        "# vector variance\n",
        "from numpy import array\n",
        "from numpy import var\n",
        "# define vector\n",
        "v = array([3505, 2400, 3027, 2798, 3700, 3250, 2689])\n",
        "print(v)\n",
        "# calculate variance\n",
        "result = var(v, ddof=1)\n",
        "print(result)"
      ],
      "execution_count": 4,
      "outputs": [
        {
          "output_type": "stream",
          "text": [
            "[3505 2400 3027 2798 3700 3250 2689]\n",
            "214387.90476190473\n"
          ],
          "name": "stdout"
        }
      ]
    },
    {
      "cell_type": "code",
      "metadata": {
        "id": "meifTt5N0Wu2",
        "colab_type": "code",
        "colab": {
          "base_uri": "https://localhost:8080/",
          "height": 51
        },
        "outputId": "b3e4c973-279c-44fd-9f24-be3840212cc9"
      },
      "source": [
        "# matrix standard deviation\n",
        "from numpy import array\n",
        "from numpy import std\n",
        "# define matrix\n",
        "M = array([3505, 2400, 3027, 2798, 3700, 3250, 2689])\n",
        "print(M)\n",
        "# column standard deviations\n",
        "result = std(M, ddof=1)\n",
        "print(result)"
      ],
      "execution_count": 7,
      "outputs": [
        {
          "output_type": "stream",
          "text": [
            "[3505 2400 3027 2798 3700 3250 2689]\n",
            "463.0204150595357\n"
          ],
          "name": "stdout"
        }
      ]
    },
    {
      "cell_type": "markdown",
      "metadata": {
        "id": "oh63KaOctEp_",
        "colab_type": "text"
      },
      "source": [
        "## 1.2 Find the covariance between last week's sales numbers and the number of customers that entered the store last week: [127, 80, 105, 92, 120, 115, 93] (you may use librray functions for calculating the covariance since we didn't specifically talk about its formula)"
      ]
    },
    {
      "cell_type": "code",
      "metadata": {
        "id": "G7ZB0krot564",
        "colab_type": "code",
        "colab": {
          "base_uri": "https://localhost:8080/",
          "height": 68
        },
        "outputId": "9c3c52c2-f23b-49cf-9f67-fb55bc2abc9c"
      },
      "source": [
        "# vector covariance\n",
        "from numpy import array\n",
        "from numpy import cov\n",
        "from numpy import corrcoef\n",
        "# define first vector\n",
        "x = array([3505, 2400, 3027, 2798, 3700, 3250, 2689])\n",
        "print(x)\n",
        "# define second covariance\n",
        "y = array([127, 80, 105, 92, 120, 115, 93])\n",
        "print(y)\n",
        "# calculate covariance\n",
        "Sigma = cov(x,y)[0,1]\n",
        "print(Sigma)\n"
      ],
      "execution_count": 12,
      "outputs": [
        {
          "output_type": "stream",
          "text": [
            "[3505 2400 3027 2798 3700 3250 2689]\n",
            "[127  80 105  92 120 115  93]\n",
            "7604.357142857142\n"
          ],
          "name": "stdout"
        }
      ]
    },
    {
      "cell_type": "markdown",
      "metadata": {
        "id": "J9SbUY9mt66I",
        "colab_type": "text"
      },
      "source": [
        "## 1.3 Find the standard deviation of customers who entered the store last week. Then, use the standard deviations of both sales and customers to standardize the covariance to find the correlation coefficient that summarizes the relationship between sales and customers. (You may use library functions to check your work.)"
      ]
    },
    {
      "cell_type": "code",
      "metadata": {
        "id": "vFJms2YRrKhY",
        "colab_type": "code",
        "colab": {
          "base_uri": "https://localhost:8080/",
          "height": 34
        },
        "outputId": "8c941867-032a-4486-a787-45290445224c"
      },
      "source": [
        "# calculate correlation\n",
        "corr = corrcoef(x,y)[0,1]\n",
        "print(corr)"
      ],
      "execution_count": 13,
      "outputs": [
        {
          "output_type": "stream",
          "text": [
            "0.9628339778148909\n"
          ],
          "name": "stdout"
        }
      ]
    },
    {
      "cell_type": "markdown",
      "metadata": {
        "id": "IbZVf7nmujPJ",
        "colab_type": "text"
      },
      "source": [
        "## 1.4 Use pandas to import a cleaned version of the titanic dataset from the following link: [Titanic Dataset](https://raw.githubusercontent.com/Geoyi/Cleaning-Titanic-Data/master/titanic_clean.csv)\n",
        "\n",
        "## Calculate the variance-covariance matrix and correlation matrix for the titanic dataset's numeric columns. (you can encode some of the categorical variables and include them as a stretch goal if you finish early)"
      ]
    },
    {
      "cell_type": "code",
      "metadata": {
        "id": "0TWgUIiaCFzq",
        "colab_type": "code",
        "colab": {
          "base_uri": "https://localhost:8080/",
          "height": 442
        },
        "outputId": "a001a370-959e-4bbc-eb9b-b9df66489a07"
      },
      "source": [
        "import pandas as pd\n",
        "df = pd.read_csv('https://raw.githubusercontent.com/Geoyi/Cleaning-Titanic-Data/master/titanic_clean.csv')\n",
        "df.head(5)"
      ],
      "execution_count": 16,
      "outputs": [
        {
          "output_type": "execute_result",
          "data": {
            "text/html": [
              "<div>\n",
              "<style scoped>\n",
              "    .dataframe tbody tr th:only-of-type {\n",
              "        vertical-align: middle;\n",
              "    }\n",
              "\n",
              "    .dataframe tbody tr th {\n",
              "        vertical-align: top;\n",
              "    }\n",
              "\n",
              "    .dataframe thead th {\n",
              "        text-align: right;\n",
              "    }\n",
              "</style>\n",
              "<table border=\"1\" class=\"dataframe\">\n",
              "  <thead>\n",
              "    <tr style=\"text-align: right;\">\n",
              "      <th></th>\n",
              "      <th>Unnamed: 0</th>\n",
              "      <th>pclass</th>\n",
              "      <th>survived</th>\n",
              "      <th>name</th>\n",
              "      <th>sex</th>\n",
              "      <th>age</th>\n",
              "      <th>sibsp</th>\n",
              "      <th>parch</th>\n",
              "      <th>ticket</th>\n",
              "      <th>fare</th>\n",
              "      <th>cabin</th>\n",
              "      <th>embarked</th>\n",
              "      <th>boat</th>\n",
              "      <th>body</th>\n",
              "      <th>home.dest</th>\n",
              "      <th>has_cabin_number</th>\n",
              "    </tr>\n",
              "  </thead>\n",
              "  <tbody>\n",
              "    <tr>\n",
              "      <th>0</th>\n",
              "      <td>1</td>\n",
              "      <td>1.0</td>\n",
              "      <td>1.0</td>\n",
              "      <td>Allen, Miss. Elisabeth Walton</td>\n",
              "      <td>female</td>\n",
              "      <td>29.0000</td>\n",
              "      <td>0.0</td>\n",
              "      <td>0.0</td>\n",
              "      <td>24160</td>\n",
              "      <td>211.3375</td>\n",
              "      <td>B5</td>\n",
              "      <td>S</td>\n",
              "      <td>2</td>\n",
              "      <td>NaN</td>\n",
              "      <td>St Louis, MO</td>\n",
              "      <td>1</td>\n",
              "    </tr>\n",
              "    <tr>\n",
              "      <th>1</th>\n",
              "      <td>2</td>\n",
              "      <td>1.0</td>\n",
              "      <td>1.0</td>\n",
              "      <td>Allison, Master. Hudson Trevor</td>\n",
              "      <td>male</td>\n",
              "      <td>0.9167</td>\n",
              "      <td>1.0</td>\n",
              "      <td>2.0</td>\n",
              "      <td>113781</td>\n",
              "      <td>151.5500</td>\n",
              "      <td>C22 C26</td>\n",
              "      <td>S</td>\n",
              "      <td>11</td>\n",
              "      <td>NaN</td>\n",
              "      <td>Montreal, PQ / Chesterville, ON</td>\n",
              "      <td>1</td>\n",
              "    </tr>\n",
              "    <tr>\n",
              "      <th>2</th>\n",
              "      <td>3</td>\n",
              "      <td>1.0</td>\n",
              "      <td>0.0</td>\n",
              "      <td>Allison, Miss. Helen Loraine</td>\n",
              "      <td>female</td>\n",
              "      <td>2.0000</td>\n",
              "      <td>1.0</td>\n",
              "      <td>2.0</td>\n",
              "      <td>113781</td>\n",
              "      <td>151.5500</td>\n",
              "      <td>C22 C26</td>\n",
              "      <td>S</td>\n",
              "      <td>NaN</td>\n",
              "      <td>NaN</td>\n",
              "      <td>Montreal, PQ / Chesterville, ON</td>\n",
              "      <td>1</td>\n",
              "    </tr>\n",
              "    <tr>\n",
              "      <th>3</th>\n",
              "      <td>4</td>\n",
              "      <td>1.0</td>\n",
              "      <td>0.0</td>\n",
              "      <td>Allison, Mr. Hudson Joshua Creighton</td>\n",
              "      <td>male</td>\n",
              "      <td>30.0000</td>\n",
              "      <td>1.0</td>\n",
              "      <td>2.0</td>\n",
              "      <td>113781</td>\n",
              "      <td>151.5500</td>\n",
              "      <td>C22 C26</td>\n",
              "      <td>S</td>\n",
              "      <td>NaN</td>\n",
              "      <td>135.0</td>\n",
              "      <td>Montreal, PQ / Chesterville, ON</td>\n",
              "      <td>1</td>\n",
              "    </tr>\n",
              "    <tr>\n",
              "      <th>4</th>\n",
              "      <td>5</td>\n",
              "      <td>1.0</td>\n",
              "      <td>0.0</td>\n",
              "      <td>Allison, Mrs. Hudson J C (Bessie Waldo Daniels)</td>\n",
              "      <td>female</td>\n",
              "      <td>25.0000</td>\n",
              "      <td>1.0</td>\n",
              "      <td>2.0</td>\n",
              "      <td>113781</td>\n",
              "      <td>151.5500</td>\n",
              "      <td>C22 C26</td>\n",
              "      <td>S</td>\n",
              "      <td>NaN</td>\n",
              "      <td>NaN</td>\n",
              "      <td>Montreal, PQ / Chesterville, ON</td>\n",
              "      <td>1</td>\n",
              "    </tr>\n",
              "  </tbody>\n",
              "</table>\n",
              "</div>"
            ],
            "text/plain": [
              "   Unnamed: 0  pclass  ...                        home.dest has_cabin_number\n",
              "0           1     1.0  ...                     St Louis, MO                1\n",
              "1           2     1.0  ...  Montreal, PQ / Chesterville, ON                1\n",
              "2           3     1.0  ...  Montreal, PQ / Chesterville, ON                1\n",
              "3           4     1.0  ...  Montreal, PQ / Chesterville, ON                1\n",
              "4           5     1.0  ...  Montreal, PQ / Chesterville, ON                1\n",
              "\n",
              "[5 rows x 16 columns]"
            ]
          },
          "metadata": {
            "tags": []
          },
          "execution_count": 16
        }
      ]
    },
    {
      "cell_type": "code",
      "metadata": {
        "id": "dhAvmPNt30KR",
        "colab_type": "code",
        "colab": {
          "base_uri": "https://localhost:8080/",
          "height": 328
        },
        "outputId": "aeeaf6aa-0f28-435c-90d2-47c83235967f"
      },
      "source": [
        "df.cov()"
      ],
      "execution_count": 17,
      "outputs": [
        {
          "output_type": "execute_result",
          "data": {
            "text/html": [
              "<div>\n",
              "<style scoped>\n",
              "    .dataframe tbody tr th:only-of-type {\n",
              "        vertical-align: middle;\n",
              "    }\n",
              "\n",
              "    .dataframe tbody tr th {\n",
              "        vertical-align: top;\n",
              "    }\n",
              "\n",
              "    .dataframe thead th {\n",
              "        text-align: right;\n",
              "    }\n",
              "</style>\n",
              "<table border=\"1\" class=\"dataframe\">\n",
              "  <thead>\n",
              "    <tr style=\"text-align: right;\">\n",
              "      <th></th>\n",
              "      <th>Unnamed: 0</th>\n",
              "      <th>pclass</th>\n",
              "      <th>survived</th>\n",
              "      <th>age</th>\n",
              "      <th>sibsp</th>\n",
              "      <th>parch</th>\n",
              "      <th>fare</th>\n",
              "      <th>body</th>\n",
              "      <th>has_cabin_number</th>\n",
              "    </tr>\n",
              "  </thead>\n",
              "  <tbody>\n",
              "    <tr>\n",
              "      <th>Unnamed: 0</th>\n",
              "      <td>143117.500000</td>\n",
              "      <td>284.357034</td>\n",
              "      <td>-53.967125</td>\n",
              "      <td>-1442.939812</td>\n",
              "      <td>25.828746</td>\n",
              "      <td>1.172783</td>\n",
              "      <td>-9410.735123</td>\n",
              "      <td>591.579132</td>\n",
              "      <td>-95.438885</td>\n",
              "    </tr>\n",
              "    <tr>\n",
              "      <th>pclass</th>\n",
              "      <td>284.357034</td>\n",
              "      <td>0.701969</td>\n",
              "      <td>-0.127248</td>\n",
              "      <td>-3.954605</td>\n",
              "      <td>0.053090</td>\n",
              "      <td>0.013287</td>\n",
              "      <td>-24.227788</td>\n",
              "      <td>-2.876653</td>\n",
              "      <td>-0.249992</td>\n",
              "    </tr>\n",
              "    <tr>\n",
              "      <th>survived</th>\n",
              "      <td>-53.967125</td>\n",
              "      <td>-0.127248</td>\n",
              "      <td>0.236250</td>\n",
              "      <td>-0.314343</td>\n",
              "      <td>-0.014088</td>\n",
              "      <td>0.034776</td>\n",
              "      <td>6.146023</td>\n",
              "      <td>0.000000</td>\n",
              "      <td>0.061406</td>\n",
              "    </tr>\n",
              "    <tr>\n",
              "      <th>age</th>\n",
              "      <td>-1442.939812</td>\n",
              "      <td>-3.954605</td>\n",
              "      <td>-0.314343</td>\n",
              "      <td>165.850021</td>\n",
              "      <td>-2.559806</td>\n",
              "      <td>-1.459378</td>\n",
              "      <td>114.416613</td>\n",
              "      <td>81.622922</td>\n",
              "      <td>1.463138</td>\n",
              "    </tr>\n",
              "    <tr>\n",
              "      <th>sibsp</th>\n",
              "      <td>25.828746</td>\n",
              "      <td>0.053090</td>\n",
              "      <td>-0.014088</td>\n",
              "      <td>-2.559806</td>\n",
              "      <td>1.085052</td>\n",
              "      <td>0.336833</td>\n",
              "      <td>8.641768</td>\n",
              "      <td>-8.708471</td>\n",
              "      <td>-0.003946</td>\n",
              "    </tr>\n",
              "    <tr>\n",
              "      <th>parch</th>\n",
              "      <td>1.172783</td>\n",
              "      <td>0.013287</td>\n",
              "      <td>0.034776</td>\n",
              "      <td>-1.459378</td>\n",
              "      <td>0.336833</td>\n",
              "      <td>0.749195</td>\n",
              "      <td>9.928031</td>\n",
              "      <td>4.237190</td>\n",
              "      <td>0.013316</td>\n",
              "    </tr>\n",
              "    <tr>\n",
              "      <th>fare</th>\n",
              "      <td>-9410.735123</td>\n",
              "      <td>-24.227788</td>\n",
              "      <td>6.146023</td>\n",
              "      <td>114.416613</td>\n",
              "      <td>8.641768</td>\n",
              "      <td>9.928031</td>\n",
              "      <td>2678.959738</td>\n",
              "      <td>-179.164684</td>\n",
              "      <td>10.976961</td>\n",
              "    </tr>\n",
              "    <tr>\n",
              "      <th>body</th>\n",
              "      <td>591.579132</td>\n",
              "      <td>-2.876653</td>\n",
              "      <td>0.000000</td>\n",
              "      <td>81.622922</td>\n",
              "      <td>-8.708471</td>\n",
              "      <td>4.237190</td>\n",
              "      <td>-179.164684</td>\n",
              "      <td>9544.688567</td>\n",
              "      <td>3.625689</td>\n",
              "    </tr>\n",
              "    <tr>\n",
              "      <th>has_cabin_number</th>\n",
              "      <td>-95.438885</td>\n",
              "      <td>-0.249992</td>\n",
              "      <td>0.061406</td>\n",
              "      <td>1.463138</td>\n",
              "      <td>-0.003946</td>\n",
              "      <td>0.013316</td>\n",
              "      <td>10.976961</td>\n",
              "      <td>3.625689</td>\n",
              "      <td>0.174613</td>\n",
              "    </tr>\n",
              "  </tbody>\n",
              "</table>\n",
              "</div>"
            ],
            "text/plain": [
              "                     Unnamed: 0      pclass  ...         body  has_cabin_number\n",
              "Unnamed: 0        143117.500000  284.357034  ...   591.579132        -95.438885\n",
              "pclass               284.357034    0.701969  ...    -2.876653         -0.249992\n",
              "survived             -53.967125   -0.127248  ...     0.000000          0.061406\n",
              "age                -1442.939812   -3.954605  ...    81.622922          1.463138\n",
              "sibsp                 25.828746    0.053090  ...    -8.708471         -0.003946\n",
              "parch                  1.172783    0.013287  ...     4.237190          0.013316\n",
              "fare               -9410.735123  -24.227788  ...  -179.164684         10.976961\n",
              "body                 591.579132   -2.876653  ...  9544.688567          3.625689\n",
              "has_cabin_number     -95.438885   -0.249992  ...     3.625689          0.174613\n",
              "\n",
              "[9 rows x 9 columns]"
            ]
          },
          "metadata": {
            "tags": []
          },
          "execution_count": 17
        }
      ]
    },
    {
      "cell_type": "code",
      "metadata": {
        "id": "HnjYGTR-32Xi",
        "colab_type": "code",
        "colab": {
          "base_uri": "https://localhost:8080/",
          "height": 328
        },
        "outputId": "13a02270-73bc-42d9-f4da-04e78a1de6e5"
      },
      "source": [
        "df.corr()"
      ],
      "execution_count": 18,
      "outputs": [
        {
          "output_type": "execute_result",
          "data": {
            "text/html": [
              "<div>\n",
              "<style scoped>\n",
              "    .dataframe tbody tr th:only-of-type {\n",
              "        vertical-align: middle;\n",
              "    }\n",
              "\n",
              "    .dataframe tbody tr th {\n",
              "        vertical-align: top;\n",
              "    }\n",
              "\n",
              "    .dataframe thead th {\n",
              "        text-align: right;\n",
              "    }\n",
              "</style>\n",
              "<table border=\"1\" class=\"dataframe\">\n",
              "  <thead>\n",
              "    <tr style=\"text-align: right;\">\n",
              "      <th></th>\n",
              "      <th>Unnamed: 0</th>\n",
              "      <th>pclass</th>\n",
              "      <th>survived</th>\n",
              "      <th>age</th>\n",
              "      <th>sibsp</th>\n",
              "      <th>parch</th>\n",
              "      <th>fare</th>\n",
              "      <th>body</th>\n",
              "      <th>has_cabin_number</th>\n",
              "    </tr>\n",
              "  </thead>\n",
              "  <tbody>\n",
              "    <tr>\n",
              "      <th>Unnamed: 0</th>\n",
              "      <td>1.000000</td>\n",
              "      <td>0.897822</td>\n",
              "      <td>-0.293717</td>\n",
              "      <td>-0.296172</td>\n",
              "      <td>0.065594</td>\n",
              "      <td>0.003584</td>\n",
              "      <td>-0.481215</td>\n",
              "      <td>0.015558</td>\n",
              "      <td>-0.603727</td>\n",
              "    </tr>\n",
              "    <tr>\n",
              "      <th>pclass</th>\n",
              "      <td>0.897822</td>\n",
              "      <td>1.000000</td>\n",
              "      <td>-0.312469</td>\n",
              "      <td>-0.366370</td>\n",
              "      <td>0.060832</td>\n",
              "      <td>0.018322</td>\n",
              "      <td>-0.558629</td>\n",
              "      <td>-0.034642</td>\n",
              "      <td>-0.713857</td>\n",
              "    </tr>\n",
              "    <tr>\n",
              "      <th>survived</th>\n",
              "      <td>-0.293717</td>\n",
              "      <td>-0.312469</td>\n",
              "      <td>1.000000</td>\n",
              "      <td>-0.050199</td>\n",
              "      <td>-0.027825</td>\n",
              "      <td>0.082660</td>\n",
              "      <td>0.244265</td>\n",
              "      <td>NaN</td>\n",
              "      <td>0.302250</td>\n",
              "    </tr>\n",
              "    <tr>\n",
              "      <th>age</th>\n",
              "      <td>-0.296172</td>\n",
              "      <td>-0.366370</td>\n",
              "      <td>-0.050199</td>\n",
              "      <td>1.000000</td>\n",
              "      <td>-0.190747</td>\n",
              "      <td>-0.130872</td>\n",
              "      <td>0.171892</td>\n",
              "      <td>0.059059</td>\n",
              "      <td>0.271887</td>\n",
              "    </tr>\n",
              "    <tr>\n",
              "      <th>sibsp</th>\n",
              "      <td>0.065594</td>\n",
              "      <td>0.060832</td>\n",
              "      <td>-0.027825</td>\n",
              "      <td>-0.190747</td>\n",
              "      <td>1.000000</td>\n",
              "      <td>0.373587</td>\n",
              "      <td>0.160238</td>\n",
              "      <td>-0.099961</td>\n",
              "      <td>-0.009064</td>\n",
              "    </tr>\n",
              "    <tr>\n",
              "      <th>parch</th>\n",
              "      <td>0.003584</td>\n",
              "      <td>0.018322</td>\n",
              "      <td>0.082660</td>\n",
              "      <td>-0.130872</td>\n",
              "      <td>0.373587</td>\n",
              "      <td>1.000000</td>\n",
              "      <td>0.221539</td>\n",
              "      <td>0.051099</td>\n",
              "      <td>0.036806</td>\n",
              "    </tr>\n",
              "    <tr>\n",
              "      <th>fare</th>\n",
              "      <td>-0.481215</td>\n",
              "      <td>-0.558629</td>\n",
              "      <td>0.244265</td>\n",
              "      <td>0.171892</td>\n",
              "      <td>0.160238</td>\n",
              "      <td>0.221539</td>\n",
              "      <td>1.000000</td>\n",
              "      <td>-0.043110</td>\n",
              "      <td>0.507253</td>\n",
              "    </tr>\n",
              "    <tr>\n",
              "      <th>body</th>\n",
              "      <td>0.015558</td>\n",
              "      <td>-0.034642</td>\n",
              "      <td>NaN</td>\n",
              "      <td>0.059059</td>\n",
              "      <td>-0.099961</td>\n",
              "      <td>0.051099</td>\n",
              "      <td>-0.043110</td>\n",
              "      <td>1.000000</td>\n",
              "      <td>0.083796</td>\n",
              "    </tr>\n",
              "    <tr>\n",
              "      <th>has_cabin_number</th>\n",
              "      <td>-0.603727</td>\n",
              "      <td>-0.713857</td>\n",
              "      <td>0.302250</td>\n",
              "      <td>0.271887</td>\n",
              "      <td>-0.009064</td>\n",
              "      <td>0.036806</td>\n",
              "      <td>0.507253</td>\n",
              "      <td>0.083796</td>\n",
              "      <td>1.000000</td>\n",
              "    </tr>\n",
              "  </tbody>\n",
              "</table>\n",
              "</div>"
            ],
            "text/plain": [
              "                  Unnamed: 0    pclass  ...      body  has_cabin_number\n",
              "Unnamed: 0          1.000000  0.897822  ...  0.015558         -0.603727\n",
              "pclass              0.897822  1.000000  ... -0.034642         -0.713857\n",
              "survived           -0.293717 -0.312469  ...       NaN          0.302250\n",
              "age                -0.296172 -0.366370  ...  0.059059          0.271887\n",
              "sibsp               0.065594  0.060832  ... -0.099961         -0.009064\n",
              "parch               0.003584  0.018322  ...  0.051099          0.036806\n",
              "fare               -0.481215 -0.558629  ... -0.043110          0.507253\n",
              "body                0.015558 -0.034642  ...  1.000000          0.083796\n",
              "has_cabin_number   -0.603727 -0.713857  ...  0.083796          1.000000\n",
              "\n",
              "[9 rows x 9 columns]"
            ]
          },
          "metadata": {
            "tags": []
          },
          "execution_count": 18
        }
      ]
    },
    {
      "cell_type": "code",
      "metadata": {
        "id": "S36H4gn5350z",
        "colab_type": "code",
        "colab": {
          "base_uri": "https://localhost:8080/",
          "height": 263
        },
        "outputId": "9d36b589-eff9-47c0-8a4a-d5bbcb8ae0aa"
      },
      "source": [
        "corr = df.corr()\n",
        "corr.style.background_gradient(cmap='coolwarm').set_precision(2)"
      ],
      "execution_count": 21,
      "outputs": [
        {
          "output_type": "stream",
          "text": [
            "/usr/local/lib/python3.6/dist-packages/matplotlib/colors.py:512: RuntimeWarning: invalid value encountered in less\n",
            "  xa[xa < 0] = -1\n"
          ],
          "name": "stderr"
        },
        {
          "output_type": "execute_result",
          "data": {
            "text/html": [
              "<style  type=\"text/css\" >\n",
              "    #T_9f597026_c934_11e9_9e0e_0242ac1c0002row0_col0 {\n",
              "            background-color:  #b40426;\n",
              "            color:  #f1f1f1;\n",
              "        }    #T_9f597026_c934_11e9_9e0e_0242ac1c0002row0_col1 {\n",
              "            background-color:  #ca3b37;\n",
              "            color:  #f1f1f1;\n",
              "        }    #T_9f597026_c934_11e9_9e0e_0242ac1c0002row0_col2 {\n",
              "            background-color:  #3b4cc0;\n",
              "            color:  #f1f1f1;\n",
              "        }    #T_9f597026_c934_11e9_9e0e_0242ac1c0002row0_col3 {\n",
              "            background-color:  #4a63d3;\n",
              "            color:  #f1f1f1;\n",
              "        }    #T_9f597026_c934_11e9_9e0e_0242ac1c0002row0_col4 {\n",
              "            background-color:  #81a4fb;\n",
              "            color:  #000000;\n",
              "        }    #T_9f597026_c934_11e9_9e0e_0242ac1c0002row0_col5 {\n",
              "            background-color:  #5f7fe8;\n",
              "            color:  #000000;\n",
              "        }    #T_9f597026_c934_11e9_9e0e_0242ac1c0002row0_col6 {\n",
              "            background-color:  #4961d2;\n",
              "            color:  #f1f1f1;\n",
              "        }    #T_9f597026_c934_11e9_9e0e_0242ac1c0002row0_col7 {\n",
              "            background-color:  #3b4cc0;\n",
              "            color:  #f1f1f1;\n",
              "        }    #T_9f597026_c934_11e9_9e0e_0242ac1c0002row0_col8 {\n",
              "            background-color:  #4e68d8;\n",
              "            color:  #000000;\n",
              "        }    #T_9f597026_c934_11e9_9e0e_0242ac1c0002row1_col0 {\n",
              "            background-color:  #cb3e38;\n",
              "            color:  #f1f1f1;\n",
              "        }    #T_9f597026_c934_11e9_9e0e_0242ac1c0002row1_col1 {\n",
              "            background-color:  #b40426;\n",
              "            color:  #f1f1f1;\n",
              "        }    #T_9f597026_c934_11e9_9e0e_0242ac1c0002row1_col2 {\n",
              "            background-color:  #3b4cc0;\n",
              "            color:  #f1f1f1;\n",
              "        }    #T_9f597026_c934_11e9_9e0e_0242ac1c0002row1_col3 {\n",
              "            background-color:  #3b4cc0;\n",
              "            color:  #f1f1f1;\n",
              "        }    #T_9f597026_c934_11e9_9e0e_0242ac1c0002row1_col4 {\n",
              "            background-color:  #80a3fa;\n",
              "            color:  #000000;\n",
              "        }    #T_9f597026_c934_11e9_9e0e_0242ac1c0002row1_col5 {\n",
              "            background-color:  #6384eb;\n",
              "            color:  #000000;\n",
              "        }    #T_9f597026_c934_11e9_9e0e_0242ac1c0002row1_col6 {\n",
              "            background-color:  #3b4cc0;\n",
              "            color:  #f1f1f1;\n",
              "        }    #T_9f597026_c934_11e9_9e0e_0242ac1c0002row1_col7 {\n",
              "            background-color:  #3b4cc0;\n",
              "            color:  #f1f1f1;\n",
              "        }    #T_9f597026_c934_11e9_9e0e_0242ac1c0002row1_col8 {\n",
              "            background-color:  #3b4cc0;\n",
              "            color:  #f1f1f1;\n",
              "        }    #T_9f597026_c934_11e9_9e0e_0242ac1c0002row2_col0 {\n",
              "            background-color:  #799cf8;\n",
              "            color:  #000000;\n",
              "        }    #T_9f597026_c934_11e9_9e0e_0242ac1c0002row2_col1 {\n",
              "            background-color:  #86a9fc;\n",
              "            color:  #000000;\n",
              "        }    #T_9f597026_c934_11e9_9e0e_0242ac1c0002row2_col2 {\n",
              "            background-color:  #3b4cc0;\n",
              "            color:  #f1f1f1;\n",
              "        }    #T_9f597026_c934_11e9_9e0e_0242ac1c0002row2_col3 {\n",
              "            background-color:  #86a9fc;\n",
              "            color:  #000000;\n",
              "        }    #T_9f597026_c934_11e9_9e0e_0242ac1c0002row2_col4 {\n",
              "            background-color:  #6687ed;\n",
              "            color:  #000000;\n",
              "        }    #T_9f597026_c934_11e9_9e0e_0242ac1c0002row2_col5 {\n",
              "            background-color:  #779af7;\n",
              "            color:  #000000;\n",
              "        }    #T_9f597026_c934_11e9_9e0e_0242ac1c0002row2_col6 {\n",
              "            background-color:  #e0dbd8;\n",
              "            color:  #000000;\n",
              "        }    #T_9f597026_c934_11e9_9e0e_0242ac1c0002row2_col7 {\n",
              "            background-color:  #3b4cc0;\n",
              "            color:  #f1f1f1;\n",
              "        }    #T_9f597026_c934_11e9_9e0e_0242ac1c0002row2_col8 {\n",
              "            background-color:  #f1cdba;\n",
              "            color:  #000000;\n",
              "        }    #T_9f597026_c934_11e9_9e0e_0242ac1c0002row3_col0 {\n",
              "            background-color:  #799cf8;\n",
              "            color:  #000000;\n",
              "        }    #T_9f597026_c934_11e9_9e0e_0242ac1c0002row3_col1 {\n",
              "            background-color:  #7b9ff9;\n",
              "            color:  #000000;\n",
              "        }    #T_9f597026_c934_11e9_9e0e_0242ac1c0002row3_col2 {\n",
              "            background-color:  #3b4cc0;\n",
              "            color:  #f1f1f1;\n",
              "        }    #T_9f597026_c934_11e9_9e0e_0242ac1c0002row3_col3 {\n",
              "            background-color:  #b40426;\n",
              "            color:  #f1f1f1;\n",
              "        }    #T_9f597026_c934_11e9_9e0e_0242ac1c0002row3_col4 {\n",
              "            background-color:  #3b4cc0;\n",
              "            color:  #f1f1f1;\n",
              "        }    #T_9f597026_c934_11e9_9e0e_0242ac1c0002row3_col5 {\n",
              "            background-color:  #3b4cc0;\n",
              "            color:  #f1f1f1;\n",
              "        }    #T_9f597026_c934_11e9_9e0e_0242ac1c0002row3_col6 {\n",
              "            background-color:  #d4dbe6;\n",
              "            color:  #000000;\n",
              "        }    #T_9f597026_c934_11e9_9e0e_0242ac1c0002row3_col7 {\n",
              "            background-color:  #3b4cc0;\n",
              "            color:  #f1f1f1;\n",
              "        }    #T_9f597026_c934_11e9_9e0e_0242ac1c0002row3_col8 {\n",
              "            background-color:  #eed0c0;\n",
              "            color:  #000000;\n",
              "        }    #T_9f597026_c934_11e9_9e0e_0242ac1c0002row4_col0 {\n",
              "            background-color:  #c5d6f2;\n",
              "            color:  #000000;\n",
              "        }    #T_9f597026_c934_11e9_9e0e_0242ac1c0002row4_col1 {\n",
              "            background-color:  #cfdaea;\n",
              "            color:  #000000;\n",
              "        }    #T_9f597026_c934_11e9_9e0e_0242ac1c0002row4_col2 {\n",
              "            background-color:  #3b4cc0;\n",
              "            color:  #f1f1f1;\n",
              "        }    #T_9f597026_c934_11e9_9e0e_0242ac1c0002row4_col3 {\n",
              "            background-color:  #6282ea;\n",
              "            color:  #000000;\n",
              "        }    #T_9f597026_c934_11e9_9e0e_0242ac1c0002row4_col4 {\n",
              "            background-color:  #b40426;\n",
              "            color:  #f1f1f1;\n",
              "        }    #T_9f597026_c934_11e9_9e0e_0242ac1c0002row4_col5 {\n",
              "            background-color:  #cedaeb;\n",
              "            color:  #000000;\n",
              "        }    #T_9f597026_c934_11e9_9e0e_0242ac1c0002row4_col6 {\n",
              "            background-color:  #d3dbe7;\n",
              "            color:  #000000;\n",
              "        }    #T_9f597026_c934_11e9_9e0e_0242ac1c0002row4_col7 {\n",
              "            background-color:  #3b4cc0;\n",
              "            color:  #f1f1f1;\n",
              "        }    #T_9f597026_c934_11e9_9e0e_0242ac1c0002row4_col8 {\n",
              "            background-color:  #c4d5f3;\n",
              "            color:  #000000;\n",
              "        }    #T_9f597026_c934_11e9_9e0e_0242ac1c0002row5_col0 {\n",
              "            background-color:  #b9d0f9;\n",
              "            color:  #000000;\n",
              "        }    #T_9f597026_c934_11e9_9e0e_0242ac1c0002row5_col1 {\n",
              "            background-color:  #c9d7f0;\n",
              "            color:  #000000;\n",
              "        }    #T_9f597026_c934_11e9_9e0e_0242ac1c0002row5_col2 {\n",
              "            background-color:  #3b4cc0;\n",
              "            color:  #f1f1f1;\n",
              "        }    #T_9f597026_c934_11e9_9e0e_0242ac1c0002row5_col3 {\n",
              "            background-color:  #7295f4;\n",
              "            color:  #000000;\n",
              "        }    #T_9f597026_c934_11e9_9e0e_0242ac1c0002row5_col4 {\n",
              "            background-color:  #d6dce4;\n",
              "            color:  #000000;\n",
              "        }    #T_9f597026_c934_11e9_9e0e_0242ac1c0002row5_col5 {\n",
              "            background-color:  #b40426;\n",
              "            color:  #f1f1f1;\n",
              "        }    #T_9f597026_c934_11e9_9e0e_0242ac1c0002row5_col6 {\n",
              "            background-color:  #dddcdc;\n",
              "            color:  #000000;\n",
              "        }    #T_9f597026_c934_11e9_9e0e_0242ac1c0002row5_col7 {\n",
              "            background-color:  #3b4cc0;\n",
              "            color:  #f1f1f1;\n",
              "        }    #T_9f597026_c934_11e9_9e0e_0242ac1c0002row5_col8 {\n",
              "            background-color:  #ccd9ed;\n",
              "            color:  #000000;\n",
              "        }    #T_9f597026_c934_11e9_9e0e_0242ac1c0002row6_col0 {\n",
              "            background-color:  #516ddb;\n",
              "            color:  #000000;\n",
              "        }    #T_9f597026_c934_11e9_9e0e_0242ac1c0002row6_col1 {\n",
              "            background-color:  #5673e0;\n",
              "            color:  #000000;\n",
              "        }    #T_9f597026_c934_11e9_9e0e_0242ac1c0002row6_col2 {\n",
              "            background-color:  #3b4cc0;\n",
              "            color:  #f1f1f1;\n",
              "        }    #T_9f597026_c934_11e9_9e0e_0242ac1c0002row6_col3 {\n",
              "            background-color:  #bed2f6;\n",
              "            color:  #000000;\n",
              "        }    #T_9f597026_c934_11e9_9e0e_0242ac1c0002row6_col4 {\n",
              "            background-color:  #9dbdff;\n",
              "            color:  #000000;\n",
              "        }    #T_9f597026_c934_11e9_9e0e_0242ac1c0002row6_col5 {\n",
              "            background-color:  #a2c1ff;\n",
              "            color:  #000000;\n",
              "        }    #T_9f597026_c934_11e9_9e0e_0242ac1c0002row6_col6 {\n",
              "            background-color:  #b40426;\n",
              "            color:  #f1f1f1;\n",
              "        }    #T_9f597026_c934_11e9_9e0e_0242ac1c0002row6_col7 {\n",
              "            background-color:  #3b4cc0;\n",
              "            color:  #f1f1f1;\n",
              "        }    #T_9f597026_c934_11e9_9e0e_0242ac1c0002row6_col8 {\n",
              "            background-color:  #f7a889;\n",
              "            color:  #000000;\n",
              "        }    #T_9f597026_c934_11e9_9e0e_0242ac1c0002row7_col0 {\n",
              "            background-color:  #bbd1f8;\n",
              "            color:  #000000;\n",
              "        }    #T_9f597026_c934_11e9_9e0e_0242ac1c0002row7_col1 {\n",
              "            background-color:  #bfd3f6;\n",
              "            color:  #000000;\n",
              "        }    #T_9f597026_c934_11e9_9e0e_0242ac1c0002row7_col2 {\n",
              "            background-color:  #3b4cc0;\n",
              "            color:  #f1f1f1;\n",
              "        }    #T_9f597026_c934_11e9_9e0e_0242ac1c0002row7_col3 {\n",
              "            background-color:  #a2c1ff;\n",
              "            color:  #000000;\n",
              "        }    #T_9f597026_c934_11e9_9e0e_0242ac1c0002row7_col4 {\n",
              "            background-color:  #516ddb;\n",
              "            color:  #000000;\n",
              "        }    #T_9f597026_c934_11e9_9e0e_0242ac1c0002row7_col5 {\n",
              "            background-color:  #6e90f2;\n",
              "            color:  #000000;\n",
              "        }    #T_9f597026_c934_11e9_9e0e_0242ac1c0002row7_col6 {\n",
              "            background-color:  #a9c6fd;\n",
              "            color:  #000000;\n",
              "        }    #T_9f597026_c934_11e9_9e0e_0242ac1c0002row7_col7 {\n",
              "            background-color:  #3b4cc0;\n",
              "            color:  #f1f1f1;\n",
              "        }    #T_9f597026_c934_11e9_9e0e_0242ac1c0002row7_col8 {\n",
              "            background-color:  #d4dbe6;\n",
              "            color:  #000000;\n",
              "        }    #T_9f597026_c934_11e9_9e0e_0242ac1c0002row8_col0 {\n",
              "            background-color:  #3b4cc0;\n",
              "            color:  #f1f1f1;\n",
              "        }    #T_9f597026_c934_11e9_9e0e_0242ac1c0002row8_col1 {\n",
              "            background-color:  #3b4cc0;\n",
              "            color:  #f1f1f1;\n",
              "        }    #T_9f597026_c934_11e9_9e0e_0242ac1c0002row8_col2 {\n",
              "            background-color:  #3b4cc0;\n",
              "            color:  #f1f1f1;\n",
              "        }    #T_9f597026_c934_11e9_9e0e_0242ac1c0002row8_col3 {\n",
              "            background-color:  #d4dbe6;\n",
              "            color:  #000000;\n",
              "        }    #T_9f597026_c934_11e9_9e0e_0242ac1c0002row8_col4 {\n",
              "            background-color:  #6b8df0;\n",
              "            color:  #000000;\n",
              "        }    #T_9f597026_c934_11e9_9e0e_0242ac1c0002row8_col5 {\n",
              "            background-color:  #688aef;\n",
              "            color:  #000000;\n",
              "        }    #T_9f597026_c934_11e9_9e0e_0242ac1c0002row8_col6 {\n",
              "            background-color:  #f7b194;\n",
              "            color:  #000000;\n",
              "        }    #T_9f597026_c934_11e9_9e0e_0242ac1c0002row8_col7 {\n",
              "            background-color:  #3b4cc0;\n",
              "            color:  #f1f1f1;\n",
              "        }    #T_9f597026_c934_11e9_9e0e_0242ac1c0002row8_col8 {\n",
              "            background-color:  #b40426;\n",
              "            color:  #f1f1f1;\n",
              "        }</style><table id=\"T_9f597026_c934_11e9_9e0e_0242ac1c0002\" ><thead>    <tr>        <th class=\"blank level0\" ></th>        <th class=\"col_heading level0 col0\" >Unnamed: 0</th>        <th class=\"col_heading level0 col1\" >pclass</th>        <th class=\"col_heading level0 col2\" >survived</th>        <th class=\"col_heading level0 col3\" >age</th>        <th class=\"col_heading level0 col4\" >sibsp</th>        <th class=\"col_heading level0 col5\" >parch</th>        <th class=\"col_heading level0 col6\" >fare</th>        <th class=\"col_heading level0 col7\" >body</th>        <th class=\"col_heading level0 col8\" >has_cabin_number</th>    </tr></thead><tbody>\n",
              "                <tr>\n",
              "                        <th id=\"T_9f597026_c934_11e9_9e0e_0242ac1c0002level0_row0\" class=\"row_heading level0 row0\" >Unnamed: 0</th>\n",
              "                        <td id=\"T_9f597026_c934_11e9_9e0e_0242ac1c0002row0_col0\" class=\"data row0 col0\" >1</td>\n",
              "                        <td id=\"T_9f597026_c934_11e9_9e0e_0242ac1c0002row0_col1\" class=\"data row0 col1\" >0.9</td>\n",
              "                        <td id=\"T_9f597026_c934_11e9_9e0e_0242ac1c0002row0_col2\" class=\"data row0 col2\" >-0.29</td>\n",
              "                        <td id=\"T_9f597026_c934_11e9_9e0e_0242ac1c0002row0_col3\" class=\"data row0 col3\" >-0.3</td>\n",
              "                        <td id=\"T_9f597026_c934_11e9_9e0e_0242ac1c0002row0_col4\" class=\"data row0 col4\" >0.066</td>\n",
              "                        <td id=\"T_9f597026_c934_11e9_9e0e_0242ac1c0002row0_col5\" class=\"data row0 col5\" >0.0036</td>\n",
              "                        <td id=\"T_9f597026_c934_11e9_9e0e_0242ac1c0002row0_col6\" class=\"data row0 col6\" >-0.48</td>\n",
              "                        <td id=\"T_9f597026_c934_11e9_9e0e_0242ac1c0002row0_col7\" class=\"data row0 col7\" >0.016</td>\n",
              "                        <td id=\"T_9f597026_c934_11e9_9e0e_0242ac1c0002row0_col8\" class=\"data row0 col8\" >-0.6</td>\n",
              "            </tr>\n",
              "            <tr>\n",
              "                        <th id=\"T_9f597026_c934_11e9_9e0e_0242ac1c0002level0_row1\" class=\"row_heading level0 row1\" >pclass</th>\n",
              "                        <td id=\"T_9f597026_c934_11e9_9e0e_0242ac1c0002row1_col0\" class=\"data row1 col0\" >0.9</td>\n",
              "                        <td id=\"T_9f597026_c934_11e9_9e0e_0242ac1c0002row1_col1\" class=\"data row1 col1\" >1</td>\n",
              "                        <td id=\"T_9f597026_c934_11e9_9e0e_0242ac1c0002row1_col2\" class=\"data row1 col2\" >-0.31</td>\n",
              "                        <td id=\"T_9f597026_c934_11e9_9e0e_0242ac1c0002row1_col3\" class=\"data row1 col3\" >-0.37</td>\n",
              "                        <td id=\"T_9f597026_c934_11e9_9e0e_0242ac1c0002row1_col4\" class=\"data row1 col4\" >0.061</td>\n",
              "                        <td id=\"T_9f597026_c934_11e9_9e0e_0242ac1c0002row1_col5\" class=\"data row1 col5\" >0.018</td>\n",
              "                        <td id=\"T_9f597026_c934_11e9_9e0e_0242ac1c0002row1_col6\" class=\"data row1 col6\" >-0.56</td>\n",
              "                        <td id=\"T_9f597026_c934_11e9_9e0e_0242ac1c0002row1_col7\" class=\"data row1 col7\" >-0.035</td>\n",
              "                        <td id=\"T_9f597026_c934_11e9_9e0e_0242ac1c0002row1_col8\" class=\"data row1 col8\" >-0.71</td>\n",
              "            </tr>\n",
              "            <tr>\n",
              "                        <th id=\"T_9f597026_c934_11e9_9e0e_0242ac1c0002level0_row2\" class=\"row_heading level0 row2\" >survived</th>\n",
              "                        <td id=\"T_9f597026_c934_11e9_9e0e_0242ac1c0002row2_col0\" class=\"data row2 col0\" >-0.29</td>\n",
              "                        <td id=\"T_9f597026_c934_11e9_9e0e_0242ac1c0002row2_col1\" class=\"data row2 col1\" >-0.31</td>\n",
              "                        <td id=\"T_9f597026_c934_11e9_9e0e_0242ac1c0002row2_col2\" class=\"data row2 col2\" >1</td>\n",
              "                        <td id=\"T_9f597026_c934_11e9_9e0e_0242ac1c0002row2_col3\" class=\"data row2 col3\" >-0.05</td>\n",
              "                        <td id=\"T_9f597026_c934_11e9_9e0e_0242ac1c0002row2_col4\" class=\"data row2 col4\" >-0.028</td>\n",
              "                        <td id=\"T_9f597026_c934_11e9_9e0e_0242ac1c0002row2_col5\" class=\"data row2 col5\" >0.083</td>\n",
              "                        <td id=\"T_9f597026_c934_11e9_9e0e_0242ac1c0002row2_col6\" class=\"data row2 col6\" >0.24</td>\n",
              "                        <td id=\"T_9f597026_c934_11e9_9e0e_0242ac1c0002row2_col7\" class=\"data row2 col7\" >nan</td>\n",
              "                        <td id=\"T_9f597026_c934_11e9_9e0e_0242ac1c0002row2_col8\" class=\"data row2 col8\" >0.3</td>\n",
              "            </tr>\n",
              "            <tr>\n",
              "                        <th id=\"T_9f597026_c934_11e9_9e0e_0242ac1c0002level0_row3\" class=\"row_heading level0 row3\" >age</th>\n",
              "                        <td id=\"T_9f597026_c934_11e9_9e0e_0242ac1c0002row3_col0\" class=\"data row3 col0\" >-0.3</td>\n",
              "                        <td id=\"T_9f597026_c934_11e9_9e0e_0242ac1c0002row3_col1\" class=\"data row3 col1\" >-0.37</td>\n",
              "                        <td id=\"T_9f597026_c934_11e9_9e0e_0242ac1c0002row3_col2\" class=\"data row3 col2\" >-0.05</td>\n",
              "                        <td id=\"T_9f597026_c934_11e9_9e0e_0242ac1c0002row3_col3\" class=\"data row3 col3\" >1</td>\n",
              "                        <td id=\"T_9f597026_c934_11e9_9e0e_0242ac1c0002row3_col4\" class=\"data row3 col4\" >-0.19</td>\n",
              "                        <td id=\"T_9f597026_c934_11e9_9e0e_0242ac1c0002row3_col5\" class=\"data row3 col5\" >-0.13</td>\n",
              "                        <td id=\"T_9f597026_c934_11e9_9e0e_0242ac1c0002row3_col6\" class=\"data row3 col6\" >0.17</td>\n",
              "                        <td id=\"T_9f597026_c934_11e9_9e0e_0242ac1c0002row3_col7\" class=\"data row3 col7\" >0.059</td>\n",
              "                        <td id=\"T_9f597026_c934_11e9_9e0e_0242ac1c0002row3_col8\" class=\"data row3 col8\" >0.27</td>\n",
              "            </tr>\n",
              "            <tr>\n",
              "                        <th id=\"T_9f597026_c934_11e9_9e0e_0242ac1c0002level0_row4\" class=\"row_heading level0 row4\" >sibsp</th>\n",
              "                        <td id=\"T_9f597026_c934_11e9_9e0e_0242ac1c0002row4_col0\" class=\"data row4 col0\" >0.066</td>\n",
              "                        <td id=\"T_9f597026_c934_11e9_9e0e_0242ac1c0002row4_col1\" class=\"data row4 col1\" >0.061</td>\n",
              "                        <td id=\"T_9f597026_c934_11e9_9e0e_0242ac1c0002row4_col2\" class=\"data row4 col2\" >-0.028</td>\n",
              "                        <td id=\"T_9f597026_c934_11e9_9e0e_0242ac1c0002row4_col3\" class=\"data row4 col3\" >-0.19</td>\n",
              "                        <td id=\"T_9f597026_c934_11e9_9e0e_0242ac1c0002row4_col4\" class=\"data row4 col4\" >1</td>\n",
              "                        <td id=\"T_9f597026_c934_11e9_9e0e_0242ac1c0002row4_col5\" class=\"data row4 col5\" >0.37</td>\n",
              "                        <td id=\"T_9f597026_c934_11e9_9e0e_0242ac1c0002row4_col6\" class=\"data row4 col6\" >0.16</td>\n",
              "                        <td id=\"T_9f597026_c934_11e9_9e0e_0242ac1c0002row4_col7\" class=\"data row4 col7\" >-0.1</td>\n",
              "                        <td id=\"T_9f597026_c934_11e9_9e0e_0242ac1c0002row4_col8\" class=\"data row4 col8\" >-0.0091</td>\n",
              "            </tr>\n",
              "            <tr>\n",
              "                        <th id=\"T_9f597026_c934_11e9_9e0e_0242ac1c0002level0_row5\" class=\"row_heading level0 row5\" >parch</th>\n",
              "                        <td id=\"T_9f597026_c934_11e9_9e0e_0242ac1c0002row5_col0\" class=\"data row5 col0\" >0.0036</td>\n",
              "                        <td id=\"T_9f597026_c934_11e9_9e0e_0242ac1c0002row5_col1\" class=\"data row5 col1\" >0.018</td>\n",
              "                        <td id=\"T_9f597026_c934_11e9_9e0e_0242ac1c0002row5_col2\" class=\"data row5 col2\" >0.083</td>\n",
              "                        <td id=\"T_9f597026_c934_11e9_9e0e_0242ac1c0002row5_col3\" class=\"data row5 col3\" >-0.13</td>\n",
              "                        <td id=\"T_9f597026_c934_11e9_9e0e_0242ac1c0002row5_col4\" class=\"data row5 col4\" >0.37</td>\n",
              "                        <td id=\"T_9f597026_c934_11e9_9e0e_0242ac1c0002row5_col5\" class=\"data row5 col5\" >1</td>\n",
              "                        <td id=\"T_9f597026_c934_11e9_9e0e_0242ac1c0002row5_col6\" class=\"data row5 col6\" >0.22</td>\n",
              "                        <td id=\"T_9f597026_c934_11e9_9e0e_0242ac1c0002row5_col7\" class=\"data row5 col7\" >0.051</td>\n",
              "                        <td id=\"T_9f597026_c934_11e9_9e0e_0242ac1c0002row5_col8\" class=\"data row5 col8\" >0.037</td>\n",
              "            </tr>\n",
              "            <tr>\n",
              "                        <th id=\"T_9f597026_c934_11e9_9e0e_0242ac1c0002level0_row6\" class=\"row_heading level0 row6\" >fare</th>\n",
              "                        <td id=\"T_9f597026_c934_11e9_9e0e_0242ac1c0002row6_col0\" class=\"data row6 col0\" >-0.48</td>\n",
              "                        <td id=\"T_9f597026_c934_11e9_9e0e_0242ac1c0002row6_col1\" class=\"data row6 col1\" >-0.56</td>\n",
              "                        <td id=\"T_9f597026_c934_11e9_9e0e_0242ac1c0002row6_col2\" class=\"data row6 col2\" >0.24</td>\n",
              "                        <td id=\"T_9f597026_c934_11e9_9e0e_0242ac1c0002row6_col3\" class=\"data row6 col3\" >0.17</td>\n",
              "                        <td id=\"T_9f597026_c934_11e9_9e0e_0242ac1c0002row6_col4\" class=\"data row6 col4\" >0.16</td>\n",
              "                        <td id=\"T_9f597026_c934_11e9_9e0e_0242ac1c0002row6_col5\" class=\"data row6 col5\" >0.22</td>\n",
              "                        <td id=\"T_9f597026_c934_11e9_9e0e_0242ac1c0002row6_col6\" class=\"data row6 col6\" >1</td>\n",
              "                        <td id=\"T_9f597026_c934_11e9_9e0e_0242ac1c0002row6_col7\" class=\"data row6 col7\" >-0.043</td>\n",
              "                        <td id=\"T_9f597026_c934_11e9_9e0e_0242ac1c0002row6_col8\" class=\"data row6 col8\" >0.51</td>\n",
              "            </tr>\n",
              "            <tr>\n",
              "                        <th id=\"T_9f597026_c934_11e9_9e0e_0242ac1c0002level0_row7\" class=\"row_heading level0 row7\" >body</th>\n",
              "                        <td id=\"T_9f597026_c934_11e9_9e0e_0242ac1c0002row7_col0\" class=\"data row7 col0\" >0.016</td>\n",
              "                        <td id=\"T_9f597026_c934_11e9_9e0e_0242ac1c0002row7_col1\" class=\"data row7 col1\" >-0.035</td>\n",
              "                        <td id=\"T_9f597026_c934_11e9_9e0e_0242ac1c0002row7_col2\" class=\"data row7 col2\" >nan</td>\n",
              "                        <td id=\"T_9f597026_c934_11e9_9e0e_0242ac1c0002row7_col3\" class=\"data row7 col3\" >0.059</td>\n",
              "                        <td id=\"T_9f597026_c934_11e9_9e0e_0242ac1c0002row7_col4\" class=\"data row7 col4\" >-0.1</td>\n",
              "                        <td id=\"T_9f597026_c934_11e9_9e0e_0242ac1c0002row7_col5\" class=\"data row7 col5\" >0.051</td>\n",
              "                        <td id=\"T_9f597026_c934_11e9_9e0e_0242ac1c0002row7_col6\" class=\"data row7 col6\" >-0.043</td>\n",
              "                        <td id=\"T_9f597026_c934_11e9_9e0e_0242ac1c0002row7_col7\" class=\"data row7 col7\" >1</td>\n",
              "                        <td id=\"T_9f597026_c934_11e9_9e0e_0242ac1c0002row7_col8\" class=\"data row7 col8\" >0.084</td>\n",
              "            </tr>\n",
              "            <tr>\n",
              "                        <th id=\"T_9f597026_c934_11e9_9e0e_0242ac1c0002level0_row8\" class=\"row_heading level0 row8\" >has_cabin_number</th>\n",
              "                        <td id=\"T_9f597026_c934_11e9_9e0e_0242ac1c0002row8_col0\" class=\"data row8 col0\" >-0.6</td>\n",
              "                        <td id=\"T_9f597026_c934_11e9_9e0e_0242ac1c0002row8_col1\" class=\"data row8 col1\" >-0.71</td>\n",
              "                        <td id=\"T_9f597026_c934_11e9_9e0e_0242ac1c0002row8_col2\" class=\"data row8 col2\" >0.3</td>\n",
              "                        <td id=\"T_9f597026_c934_11e9_9e0e_0242ac1c0002row8_col3\" class=\"data row8 col3\" >0.27</td>\n",
              "                        <td id=\"T_9f597026_c934_11e9_9e0e_0242ac1c0002row8_col4\" class=\"data row8 col4\" >-0.0091</td>\n",
              "                        <td id=\"T_9f597026_c934_11e9_9e0e_0242ac1c0002row8_col5\" class=\"data row8 col5\" >0.037</td>\n",
              "                        <td id=\"T_9f597026_c934_11e9_9e0e_0242ac1c0002row8_col6\" class=\"data row8 col6\" >0.51</td>\n",
              "                        <td id=\"T_9f597026_c934_11e9_9e0e_0242ac1c0002row8_col7\" class=\"data row8 col7\" >0.084</td>\n",
              "                        <td id=\"T_9f597026_c934_11e9_9e0e_0242ac1c0002row8_col8\" class=\"data row8 col8\" >1</td>\n",
              "            </tr>\n",
              "    </tbody></table>"
            ],
            "text/plain": [
              "<pandas.io.formats.style.Styler at 0x7f9cd93a1f28>"
            ]
          },
          "metadata": {
            "tags": []
          },
          "execution_count": 21
        }
      ]
    },
    {
      "cell_type": "markdown",
      "metadata": {
        "id": "7K0Xfh8MvYkl",
        "colab_type": "text"
      },
      "source": [
        "# Orthogonality"
      ]
    },
    {
      "cell_type": "markdown",
      "metadata": {
        "id": "Pe3eOZ2fvdZ-",
        "colab_type": "text"
      },
      "source": [
        "## 2.1 Plot two vectors that are orthogonal to each other. What is a synonym for orthogonal?"
      ]
    },
    {
      "cell_type": "code",
      "metadata": {
        "id": "YLSBk7hJvvCx",
        "colab_type": "code",
        "colab": {
          "base_uri": "https://localhost:8080/",
          "height": 281
        },
        "outputId": "844abb04-d1e4-4be8-9960-22b4dfaa1631"
      },
      "source": [
        "import matplotlib.pyplot as plt\n",
        "vector_1 = [0, 3]\n",
        "vector_2 = [3, 0]\n",
        "\n",
        "plt.axes().set_aspect('equal')\n",
        "\n",
        "# Plot the Scaled Vectors\n",
        "plt.arrow(0,0, vector_1[0], vector_1[1],head_width=.05, head_length=0.05, color ='red')\n",
        "plt.arrow(0,0, vector_2[0], vector_2[1],head_width=.05, head_length=0.05, color ='green')\n",
        "plt.xlim(-1,4)          \n",
        "plt.ylim(-1,4)\n",
        "plt.title(\"Orthogonal Vectors\")\n",
        "plt.show()"
      ],
      "execution_count": 26,
      "outputs": [
        {
          "output_type": "display_data",
          "data": {
            "image/png": "[encoded data removed]",
            "text/plain": [
              "<Figure size 432x288 with 1 Axes>"
            ]
          },
          "metadata": {
            "tags": []
          }
        }
      ]
    },
    {
      "cell_type": "markdown",
      "metadata": {
        "id": "AdHMQ_YB61by",
        "colab_type": "text"
      },
      "source": [
        "Synonym for Orthogonal is Perpendicular. Dot product is zero"
      ]
    },
    {
      "cell_type": "markdown",
      "metadata": {
        "id": "7AS4V1Nhvvxz",
        "colab_type": "text"
      },
      "source": [
        "## 2.2 Are the following vectors orthogonal? Why or why not?\n",
        "\n",
        "\\begin{align}\n",
        "a = \\begin{bmatrix} -5 \\\\ 3 \\\\ 7 \\end{bmatrix}\n",
        "\\qquad\n",
        "b = \\begin{bmatrix} 6 \\\\ -8 \\\\ 2 \\end{bmatrix}\n",
        "\\end{align}"
      ]
    },
    {
      "cell_type": "code",
      "metadata": {
        "id": "F_-y54YSz47k",
        "colab_type": "code",
        "colab": {
          "base_uri": "https://localhost:8080/",
          "height": 68
        },
        "outputId": "80309ee5-4aad-4583-ac06-c6d4390598f9"
      },
      "source": [
        "# orthogonal matrix\n",
        "from numpy import array\n",
        "from numpy.linalg import inv\n",
        "# define orthogonal matrix\n",
        "Q = array([-5, 3, 7])\n",
        "R = array([6, -8, 2])\n",
        "print(Q)\n",
        "print(R)\n",
        "# identity equivalence\n",
        "I = Q.dot(R)\n",
        "print(I)"
      ],
      "execution_count": 27,
      "outputs": [
        {
          "output_type": "stream",
          "text": [
            "[-5  3  7]\n",
            "[ 6 -8  2]\n",
            "-40\n"
          ],
          "name": "stdout"
        }
      ]
    },
    {
      "cell_type": "markdown",
      "metadata": {
        "id": "4_PKpMyh8fu7",
        "colab_type": "text"
      },
      "source": [
        "Dot product is not zero. Not orthogonal"
      ]
    },
    {
      "cell_type": "markdown",
      "metadata": {
        "id": "MiNjyqiEz5SG",
        "colab_type": "text"
      },
      "source": [
        "## 2.3 Compute the following values: What do these quantities have in common?\n",
        "\n",
        "## What is $||c||^2$? \n",
        "\n",
        "## What is $c \\cdot c$? \n",
        "\n",
        "## What is $c^{T}c$?\n",
        "\n",
        "\\begin{align}\n",
        "c = \\begin{bmatrix} 2 & -15 & 6 & 20 \\end{bmatrix}\n",
        "\\end{align}"
      ]
    },
    {
      "cell_type": "code",
      "metadata": {
        "id": "IlV_uaYK1EQB",
        "colab_type": "code",
        "colab": {
          "base_uri": "https://localhost:8080/",
          "height": 85
        },
        "outputId": "e45663cf-652b-4e73-fc15-a793a8de1a47"
      },
      "source": [
        "c = array([2, -15, 6, 20])\n",
        "# vector L2 norm\n",
        "from numpy import array\n",
        "from numpy.linalg import norm\n",
        "# define vector\n",
        "c = array([2, -15, 6, 20])\n",
        "print(c)\n",
        "# calculate norm\n",
        "l2 = norm(c)\n",
        "print(l2**2)\n",
        "print(c.dot(c))\n",
        "print(c.T.dot(c))"
      ],
      "execution_count": 34,
      "outputs": [
        {
          "output_type": "stream",
          "text": [
            "[  2 -15   6  20]\n",
            "665.0\n",
            "665\n",
            "665\n"
          ],
          "name": "stdout"
        }
      ]
    },
    {
      "cell_type": "markdown",
      "metadata": {
        "id": "RdNTZ4p2_Wl_",
        "colab_type": "text"
      },
      "source": [
        "They are the same"
      ]
    },
    {
      "cell_type": "markdown",
      "metadata": {
        "id": "MK_TpWqk1Evk",
        "colab_type": "text"
      },
      "source": [
        "# Unit Vectors"
      ]
    },
    {
      "cell_type": "markdown",
      "metadata": {
        "id": "Kpit6WWO1b8l",
        "colab_type": "text"
      },
      "source": [
        "## 3.1 Using Latex, write the following vectors as a linear combination of scalars and unit vectors:\n",
        "\n",
        "\\begin{align}\n",
        "d = \\begin{bmatrix} 7 \\\\ 12 \\end{bmatrix}\n",
        "\\qquad\n",
        "e = \\begin{bmatrix} 2 \\\\ 11 \\\\ -8  \\end{bmatrix}\n",
        "\\end{align}"
      ]
    },
    {
      "cell_type": "markdown",
      "metadata": {
        "id": "oBCj1sDW2ouC",
        "colab_type": "text"
      },
      "source": [
        "Your text here"
      ]
    },
    {
      "cell_type": "markdown",
      "metadata": {
        "id": "dAdUQuep1_yJ",
        "colab_type": "text"
      },
      "source": [
        "## 3.2 Turn vector $f$ into a unit vector:\n",
        "\n",
        "\\begin{align}\n",
        "f = \\begin{bmatrix} 4 & 12 & 11 & 9 & 2 \\end{bmatrix}\n",
        "\\end{align}"
      ]
    },
    {
      "cell_type": "code",
      "metadata": {
        "id": "I3W8ZiHR1_Fa",
        "colab_type": "code",
        "colab": {
          "base_uri": "https://localhost:8080/",
          "height": 68
        },
        "outputId": "aa7619cb-f6d7-4435-e970-bc0226c16551"
      },
      "source": [
        "f = array([4, 12, 11, 9, 2])\n",
        "# vector L2 norm\n",
        "from numpy import array\n",
        "from numpy.linalg import norm\n",
        "# define vector\n",
        "f = array([4, 12, 11, 9, 2])\n",
        "print(f)\n",
        "# calculate norm\n",
        "l2 = norm(f)\n",
        "print(l2)\n",
        "fhat = array([4/19.13, 12/19.13, 11/19.12, 9/19.13, 2/19.13])\n",
        "print(fhat)\n"
      ],
      "execution_count": 39,
      "outputs": [
        {
          "output_type": "stream",
          "text": [
            "[ 4 12 11  9  2]\n",
            "19.131126469708992\n",
            "[0.20909566 0.62728698 0.57531381 0.47046524 0.10454783]\n"
          ],
          "name": "stdout"
        }
      ]
    },
    {
      "cell_type": "markdown",
      "metadata": {
        "id": "o39UyP-I5lpP",
        "colab_type": "text"
      },
      "source": [
        "# Linear Independence / Dependence "
      ]
    },
    {
      "cell_type": "markdown",
      "metadata": {
        "id": "ajfBqYe45sT5",
        "colab_type": "text"
      },
      "source": [
        "## 4.1 Plot two vectors that are linearly dependent and two vectors that are linearly independent (bonus points if done in $\\mathbb{R}^3$)."
      ]
    },
    {
      "cell_type": "code",
      "metadata": {
        "id": "7YFpVaKZCYzp",
        "colab_type": "code",
        "colab": {
          "base_uri": "https://localhost:8080/",
          "height": 281
        },
        "outputId": "4ae4fa69-751f-4b2e-fbe7-a023d8641af9"
      },
      "source": [
        "# Plot Linearly Dependent Vectors\n",
        "import numpy as np\n",
        "\n",
        "# Axis Bounds\n",
        "plt.xlim(-1.1,4)          \n",
        "plt.ylim(-1.1,4)\n",
        "\n",
        "# Original Vector\n",
        "v = [1,0] \n",
        "\n",
        "# Scaled Vectors\n",
        "v2 = np.multiply(3, v)\n",
        "v3 = np.multiply(-1,v)\n",
        "\n",
        "# Get Vals for L\n",
        "axes = plt.gca()\n",
        "x_vals = np.array(axes.get_xlim())\n",
        "y_vals = 0*x_vals\n",
        "\n",
        "# Plot Vectors and L\n",
        "plt.plot(x_vals, y_vals, '--', color='b', linewidth=1)\n",
        "plt.arrow(0,0, v2[0], v2[1], linewidth=3, head_width=.05, head_length=0.05, color ='yellow')\n",
        "plt.arrow(0,0, v[0], v[1], linewidth=3, head_width=.05, head_length=0.05, color ='green')\n",
        "plt.arrow(0,0, v3[0], v3[1], linewidth=3, head_width=.05, head_length=0.05, color ='red')\n",
        "\n",
        "plt.title(\"Linearly Dependent Vectors\")\n",
        "plt.show()"
      ],
      "execution_count": 41,
      "outputs": [
        {
          "output_type": "display_data",
          "data": {
            "image/png": "[encoded data removed]",
            "text/plain": [
              "<Figure size 432x288 with 1 Axes>"
            ]
          },
          "metadata": {
            "tags": []
          }
        }
      ]
    },
    {
      "cell_type": "code",
      "metadata": {
        "id": "iXl_zvZvCkHr",
        "colab_type": "code",
        "colab": {
          "base_uri": "https://localhost:8080/",
          "height": 281
        },
        "outputId": "aaad51ff-bfb2-46b3-eefd-8d17a11ca2d0"
      },
      "source": [
        "# Plot Linearly Independent Vectors\n",
        "\n",
        "# Axis Bounds\n",
        "plt.xlim(-2,3.5)          \n",
        "plt.ylim(-1,3)\n",
        "\n",
        "# Original Vector\n",
        "a = [-1.5,.5] \n",
        "b = [3, 1]\n",
        "\n",
        "# Plot Vectors\n",
        "plt.arrow(0,0, a[0], a[1], linewidth=3, head_width=.05, head_length=0.05, color ='blue')\n",
        "plt.arrow(0,0, b[0], b[1], linewidth=3, head_width=.05, head_length=0.05, color ='red')\n",
        "\n",
        "plt.title(\"Linearly Independent Vectors\")\n",
        "plt.show()"
      ],
      "execution_count": 42,
      "outputs": [
        {
          "output_type": "display_data",
          "data": {
            "image/png": "[encoded data removed]",
            "text/plain": [
              "<Figure size 432x288 with 1 Axes>"
            ]
          },
          "metadata": {
            "tags": []
          }
        }
      ]
    },
    {
      "cell_type": "markdown",
      "metadata": {
        "id": "TrJ0MT_n3SvO",
        "colab_type": "text"
      },
      "source": [
        "# Span"
      ]
    },
    {
      "cell_type": "markdown",
      "metadata": {
        "id": "86iXLzwM2z8l",
        "colab_type": "text"
      },
      "source": [
        "## 5.1 What is the span of the following vectors?\n",
        "\n",
        "\\begin{align}\n",
        "g = \\begin{bmatrix} 1 & 2 \\end{bmatrix}\n",
        "\\qquad\n",
        "h = \\begin{bmatrix} 4 & 8 \\end{bmatrix}\n",
        "\\end{align}"
      ]
    },
    {
      "cell_type": "code",
      "metadata": {
        "id": "G2LK2RWL39Q4",
        "colab_type": "code",
        "colab": {}
      },
      "source": [
        ""
      ],
      "execution_count": 0,
      "outputs": []
    },
    {
      "cell_type": "markdown",
      "metadata": {
        "id": "l1deylUj4IHH",
        "colab_type": "text"
      },
      "source": [
        "## 5.2 What is the span of $\\{l, m, n\\}$?\n",
        "\n",
        "\\begin{align}\n",
        "l = \\begin{bmatrix} 1 & 2 & 3 \\end{bmatrix}\n",
        "\\qquad\n",
        "m = \\begin{bmatrix} -1 & 0 & 7 \\end{bmatrix}\n",
        "\\qquad\n",
        "n = \\begin{bmatrix} 4 & 8  & 2\\end{bmatrix}\n",
        "\\end{align}"
      ]
    },
    {
      "cell_type": "code",
      "metadata": {
        "id": "p1i_ueD25ZcP",
        "colab_type": "code",
        "colab": {}
      },
      "source": [
        ""
      ],
      "execution_count": 0,
      "outputs": []
    },
    {
      "cell_type": "markdown",
      "metadata": {
        "id": "IBqe7X1732kX",
        "colab_type": "text"
      },
      "source": [
        "# Basis"
      ]
    },
    {
      "cell_type": "markdown",
      "metadata": {
        "id": "YeUZVHRM6PpT",
        "colab_type": "text"
      },
      "source": [
        "## 6.1 Graph two vectors that form a basis for $\\mathbb{R}^2$\n",
        "\n"
      ]
    },
    {
      "cell_type": "code",
      "metadata": {
        "id": "utvF3Pkt8NP6",
        "colab_type": "code",
        "colab": {}
      },
      "source": [
        ""
      ],
      "execution_count": 0,
      "outputs": []
    },
    {
      "cell_type": "markdown",
      "metadata": {
        "id": "20yPFBDUxxnS",
        "colab_type": "text"
      },
      "source": [
        "## 6.2 What does it mean to form a basis?"
      ]
    },
    {
      "cell_type": "markdown",
      "metadata": {
        "id": "3w4tEayT8M0o",
        "colab_type": "text"
      },
      "source": [
        ""
      ]
    },
    {
      "cell_type": "markdown",
      "metadata": {
        "id": "EHmUxbcY6vD3",
        "colab_type": "text"
      },
      "source": [
        "# Rank"
      ]
    },
    {
      "cell_type": "markdown",
      "metadata": {
        "id": "IpJwt9kw6v8U",
        "colab_type": "text"
      },
      "source": [
        "## 7.1 What is the Rank of P?\n",
        "\n",
        "\\begin{align}\n",
        "P = \\begin{bmatrix} \n",
        "1 & 2 & 3 \\\\\n",
        " -1 & 0 & 7 \\\\\n",
        "4 & 8  & 2\n",
        "\\end{bmatrix}\n",
        "\\end{align}"
      ]
    },
    {
      "cell_type": "code",
      "metadata": {
        "id": "Rt-KDj7fGB8X",
        "colab_type": "code",
        "colab": {
          "base_uri": "https://localhost:8080/",
          "height": 85
        },
        "outputId": "dd1bbe8e-e697-4fe0-e312-bda7a3162e5e"
      },
      "source": [
        "# vector rank\n",
        "from numpy import array\n",
        "from numpy.linalg import matrix_rank\n",
        "# rank\n",
        "p = array([[1,2,3], [-1, 0, 7], [4, 8, 2]])\n",
        "print(p)\n",
        "p1 = matrix_rank(p)\n",
        "print(p1)"
      ],
      "execution_count": 44,
      "outputs": [
        {
          "output_type": "stream",
          "text": [
            "[[ 1  2  3]\n",
            " [-1  0  7]\n",
            " [ 4  8  2]]\n",
            "3\n"
          ],
          "name": "stdout"
        }
      ]
    },
    {
      "cell_type": "markdown",
      "metadata": {
        "id": "jGqFMBYY7mHD",
        "colab_type": "text"
      },
      "source": [
        "## 7.2 What does the rank of a matrix tell us?"
      ]
    },
    {
      "cell_type": "markdown",
      "metadata": {
        "id": "ik1MC1x7GDjp",
        "colab_type": "text"
      },
      "source": [
        "number of dimesions spanned by all the vectors within the matrix. Could be point, line, 2-dimension, 3-dimension etc"
      ]
    },
    {
      "cell_type": "markdown",
      "metadata": {
        "id": "0Db2sc_V8QD6",
        "colab_type": "text"
      },
      "source": [
        "# Linear Projections\n",
        "\n",
        "## 8.1 Line $L$ is formed by all of the vectors that can be created by scaling vector $v$ \n",
        "\\begin{align}\n",
        "v = \\begin{bmatrix} 1 & 3 \\end{bmatrix}\n",
        "\\end{align}\n",
        "\n",
        "\\begin{align}\n",
        "w = \\begin{bmatrix} -1 & 2 \\end{bmatrix}\n",
        "\\end{align}\n",
        "\n",
        "## find $proj_{L}(w)$\n",
        "\n",
        "## graph your projected vector to check your work (make sure your axis are square/even)"
      ]
    },
    {
      "cell_type": "code",
      "metadata": {
        "id": "hp5z2WTBCNKx",
        "colab_type": "code",
        "colab": {
          "base_uri": "https://localhost:8080/",
          "height": 281
        },
        "outputId": "8efc6845-95dc-40c6-8da4-a5edcd5c0438"
      },
      "source": [
        "# Axis Bounds\n",
        "plt.xlim(-1.1,4)          \n",
        "plt.ylim(-1.1,4)\n",
        "\n",
        "# Original Vector\n",
        "# v = [1,3] \n",
        "w = [-1,2]\n",
        "proj = [1,0]\n",
        "\n",
        "# Get Vals for L\n",
        "axes = plt.gca()\n",
        "x_vals = np.array(axes.get_xlim())\n",
        "y_vals = 0*x_vals\n",
        "\n",
        "# Plot Vectors and L\n",
        "plt.plot(x_vals, y_vals, '--', color='b', linewidth=1)\n",
        "plt.arrow(0, 0, w[0], w[1], linewidth=3, head_width=.05, head_length=0.05, color ='red')\n",
        "\n",
        "plt.title(\"Shadow of w\")\n",
        "plt.show()"
      ],
      "execution_count": 46,
      "outputs": [
        {
          "output_type": "display_data",
          "data": {
            "image/png": "[encoded data removed]",
            "text/plain": [
              "<Figure size 432x288 with 1 Axes>"
            ]
          },
          "metadata": {
            "tags": []
          }
        }
      ]
    },
    {
      "cell_type": "markdown",
      "metadata": {
        "id": "TKkrPwRM-Oar",
        "colab_type": "text"
      },
      "source": [
        "# Stretch Goal\n",
        "\n",
        "## For vectors that begin at the origin, the coordinates of where the vector ends can be interpreted as regular data points. (See 3Blue1Brown videos about Spans, Basis, etc.)\n",
        "\n",
        "## Write a function that can calculate the linear projection of each point (x,y) (vector) onto the line y=x. run the function and plot the original points in blue and the new projected points on the line y=x in red. \n",
        "\n",
        "## For extra points plot the orthogonal vectors as a dashed line from the original blue points to the projected red points."
      ]
    },
    {
      "cell_type": "code",
      "metadata": {
        "id": "cp52kZra-ykj",
        "colab_type": "code",
        "outputId": "12502200-eafe-4e20-bfb7-2d539c6027cb",
        "colab": {
          "base_uri": "https://localhost:8080/",
          "height": 347
        }
      },
      "source": [
        "import pandas as pd\n",
        "import matplotlib.pyplot as plt\n",
        "\n",
        "# Creating a dataframe for you to work with -Feel free to not use the dataframe if you don't want to.\n",
        "x_values = [1, 4, 7, 3, 9, 4, 5 ]\n",
        "y_values = [4, 2, 5, 0, 8, 2, 8]\n",
        "\n",
        "data = {\"x\": x_values, \"y\": y_values}\n",
        "\n",
        "df = pd.DataFrame(data)\n",
        "\n",
        "df.head()\n",
        "\n",
        "plt.scatter(df.x, df.y)\n",
        "plt.show()"
      ],
      "execution_count": 0,
      "outputs": [
        {
          "output_type": "display_data",
          "data": {
            "image/png": "[encoded data removed]",
            "text/plain": [
              "<matplotlib.figure.Figure at 0x7f787cfb2978>"
            ]
          },
          "metadata": {
            "tags": []
          }
        }
      ]
    },
    {
      "cell_type": "code",
      "metadata": {
        "id": "EZTA6Tj6BGDb",
        "colab_type": "code",
        "colab": {}
      },
      "source": [
        ""
      ],
      "execution_count": 0,
      "outputs": []
    }
  ]
}