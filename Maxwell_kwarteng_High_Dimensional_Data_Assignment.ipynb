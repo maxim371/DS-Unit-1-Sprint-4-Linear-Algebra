{
  "nbformat": 4,
  "nbformat_minor": 0,
  "metadata": {
    "colab": {
      "name": "Maxwell kwarteng High Dimensional Data Assignment.ipynb",
      "version": "0.3.2",
      "provenance": [],
      "collapsed_sections": [],
      "include_colab_link": true
    },
    "kernelspec": {
      "name": "python3",
      "display_name": "Python 3"
    }
  },
  "cells": [
    {
      "cell_type": "markdown",
      "metadata": {
        "id": "view-in-github",
        "colab_type": "text"
      },
      "source": [
        "<a href=\"https://colab.research.google.com/github/maxim371/DS-Unit-1-Sprint-4-Linear-Algebra/blob/master/Maxwell_kwarteng_High_Dimensional_Data_Assignment.ipynb\" target=\"_parent\"><img src=\"https://colab.research.google.com/assets/colab-badge.svg\" alt=\"Open In Colab\"/></a>"
      ]
    },
    {
      "cell_type": "markdown",
      "metadata": {
        "id": "7wMWCkE1RZpM",
        "colab_type": "text"
      },
      "source": [
        "# Vertical Line Test"
      ]
    },
    {
      "cell_type": "markdown",
      "metadata": {
        "id": "W0-g7aprRv2j",
        "colab_type": "text"
      },
      "source": [
        "## 1.1 Create two graphs, one that passes the vertical line test and one that does not."
      ]
    },
    {
      "cell_type": "code",
      "metadata": {
        "id": "fIJhCtF6RW_U",
        "colab_type": "code",
        "colab": {}
      },
      "source": [
        ""
      ],
      "execution_count": 0,
      "outputs": []
    },
    {
      "cell_type": "markdown",
      "metadata": {
        "id": "ckeTKqMgRy7g",
        "colab_type": "text"
      },
      "source": [
        "## 1.2 Why are graphs that don't pass the vertical line test not considered \"functions?\""
      ]
    },
    {
      "cell_type": "markdown",
      "metadata": {
        "id": "Gtl20YeDR6x-",
        "colab_type": "text"
      },
      "source": [
        "Not functions because each input is not mapped to exactly one output"
      ]
    },
    {
      "cell_type": "markdown",
      "metadata": {
        "id": "g21uN62xSKSk",
        "colab_type": "text"
      },
      "source": [
        "# Functions as Relations"
      ]
    },
    {
      "cell_type": "markdown",
      "metadata": {
        "id": "gwkcV-EMSMNd",
        "colab_type": "text"
      },
      "source": [
        "## 2.1 Which of the following relations are functions? Why?\n",
        "\n",
        "\\begin{align}\n",
        "\\text{Relation 1: } \\{(1, 2), (3, 2), (1, 3)\\}\n",
        "\\\\\n",
        "\\text{Relation 2: } \\{(1, 3), (2, 3), (6, 7)\\}\n",
        "\\\\\n",
        "\\text{Relation 3: } \\{(9, 4), (2, 1), (9, 6)\\}\n",
        "\\\\\n",
        "\\text{Relation 4: } \\{(6, 2), (8, 3), (6, 4)\\}\n",
        "\\\\\n",
        "\\text{Relation 5: } \\{(2, 6), (2, 7), (2, 4)\\}\n",
        "\\end{align}"
      ]
    },
    {
      "cell_type": "markdown",
      "metadata": {
        "id": "TSGQHJquYMnN",
        "colab_type": "text"
      },
      "source": [
        "Relations 2 is a function"
      ]
    },
    {
      "cell_type": "markdown",
      "metadata": {
        "id": "y0U30PrlTAAa",
        "colab_type": "text"
      },
      "source": [
        "# Functions as a mapping between dimensions\n"
      ]
    },
    {
      "cell_type": "markdown",
      "metadata": {
        "id": "pw-OU9qmT5Ua",
        "colab_type": "text"
      },
      "source": [
        "## 3.1 for the following functions what is the dimensionality of the domain (input) and codomain (range/output)?\n",
        "\n",
        "\\begin{align}\n",
        "m(𝑥_1,𝑥_2,𝑥_3)=(x_1+x_2, x_1+x_3, x_2+x_3)\n",
        "\\\\\n",
        "n(𝑥_1,𝑥_2,𝑥_3,𝑥_4)=(x_2^2 + x_3, x_2x_4)\n",
        "\\end{align}"
      ]
    },
    {
      "cell_type": "markdown",
      "metadata": {
        "id": "xBGS8meCYlHn",
        "colab_type": "text"
      },
      "source": [
        "m is 3-dimensions for input and 2 dimesions for codomain.\n",
        "\n",
        "n is 4-dimensions for input and 3 dimensions for codomain.\n",
        "\n"
      ]
    },
    {
      "cell_type": "markdown",
      "metadata": {
        "id": "k4tKHjdHUevC",
        "colab_type": "text"
      },
      "source": [
        "## 3.2 Do you think it's possible to create a function that maps from a lower dimensional space to a higher dimensional space? If so, provide an example."
      ]
    },
    {
      "cell_type": "markdown",
      "metadata": {
        "id": "2nEWvwVyVWdW",
        "colab_type": "text"
      },
      "source": [
        "# Vector Transformations"
      ]
    },
    {
      "cell_type": "markdown",
      "metadata": {
        "id": "1n0-6FsYVcVk",
        "colab_type": "text"
      },
      "source": [
        "## 4.1 Plug the corresponding unit vectors into each function. Use the output vectors to create a transformation matrix.\n",
        "\n",
        "\\begin{align}\n",
        "p(\\begin{bmatrix}x_1 \\\\ x_2 \\end{bmatrix}) = \\begin{bmatrix} x_1 + 3x_2 \\\\2 x_2 - x_1 \\\\  \\end{bmatrix}\n",
        "\\\\\n",
        "\\\\\n",
        "q(\\begin{bmatrix}x_1 \\\\ x_2 \\\\ x_3\\end{bmatrix}) = \\begin{bmatrix} 4x_1 + x_2 + 2x_3 \\\\2 x_2 - x_1 + 3x_3 \\\\ 5x_1 - 2x_3 + x_2  \\end{bmatrix}\n",
        "\\end{align}"
      ]
    },
    {
      "cell_type": "markdown",
      "metadata": {
        "id": "n5HUOQIxZ2gp",
        "colab_type": "text"
      },
      "source": [
        "## 4.2 Verify that your transformation matrices are correct by choosing an input matrix and calculating the result both via the traditional functions above and also via vector-matrix multiplication."
      ]
    },
    {
      "cell_type": "code",
      "metadata": {
        "id": "0UANR1IEaVWE",
        "colab_type": "code",
        "colab": {}
      },
      "source": [
        ""
      ],
      "execution_count": 0,
      "outputs": []
    },
    {
      "cell_type": "markdown",
      "metadata": {
        "id": "vEoiri3mak7j",
        "colab_type": "text"
      },
      "source": [
        "# Eigenvalues and Eigenvectors"
      ]
    },
    {
      "cell_type": "markdown",
      "metadata": {
        "id": "5HY0R4u7anIr",
        "colab_type": "text"
      },
      "source": [
        "## 5.1 In your own words, give an explanation for the intuition behind eigenvalues and eigenvectors."
      ]
    },
    {
      "cell_type": "markdown",
      "metadata": {
        "id": "rcjNNTuwjT3R",
        "colab_type": "text"
      },
      "source": [
        "eigenvalues and eigenvectors always cme in pairs. eigenvector doesn't change it's orientation during a transformation and eigenvalue is the magnitude or scalar."
      ]
    },
    {
      "cell_type": "markdown",
      "metadata": {
        "id": "VdehMwBtatKI",
        "colab_type": "text"
      },
      "source": [
        "# The Curse of Dimensionality"
      ]
    },
    {
      "cell_type": "markdown",
      "metadata": {
        "id": "4oVrJax-a3SK",
        "colab_type": "text"
      },
      "source": [
        "## 6.1 What are some of the challenges of working with high dimensional spaces?"
      ]
    },
    {
      "cell_type": "markdown",
      "metadata": {
        "id": "SFSTQypzjv4V",
        "colab_type": "text"
      },
      "source": [
        "No depth perception with graphing higher dimensions. Higher dimensions also suffer intepretation problems and hard to graph or visualize."
      ]
    },
    {
      "cell_type": "markdown",
      "metadata": {
        "id": "ZiBJxsZla88c",
        "colab_type": "text"
      },
      "source": [
        "## 6.2 What is the rule of thumb for how many observations you should have compared to parameters in your model?"
      ]
    },
    {
      "cell_type": "markdown",
      "metadata": {
        "id": "gIS_e-EPkmyH",
        "colab_type": "text"
      },
      "source": [
        "5 times the number of observations as you have parameters in your model."
      ]
    },
    {
      "cell_type": "markdown",
      "metadata": {
        "id": "NZmqdeygbHJx",
        "colab_type": "text"
      },
      "source": [
        "# Principal Component Analysis"
      ]
    },
    {
      "cell_type": "markdown",
      "metadata": {
        "id": "7iEheetpbJdN",
        "colab_type": "text"
      },
      "source": [
        "## 7.1 Load the UCI Machine Learning Repository's [Iris Dataset](https://gist.githubusercontent.com/curran/a08a1080b88344b0c8a7/raw/d546eaee765268bf2f487608c537c05e22e4b221/iris.csv) and use PCA to isolate the dataset's first and second principal components and plot them on a graph. "
      ]
    },
    {
      "cell_type": "code",
      "metadata": {
        "id": "wy9AZVgZcHLZ",
        "colab_type": "code",
        "colab": {
          "base_uri": "https://localhost:8080/",
          "height": 204
        },
        "outputId": "a2766b7f-3c65-4e5e-b630-12f6cc6d6a25"
      },
      "source": [
        "import numpy as np\n",
        "import pandas as pd\n",
        "import matplotlib.pyplot as plt\n",
        "from sklearn.decomposition import PCA\n",
        "df = pd.read_csv('https://gist.githubusercontent.com/curran/a08a1080b88344b0c8a7/raw/d546eaee765268bf2f487608c537c05e22e4b221/iris.csv')\n",
        "df.head(5)"
      ],
      "execution_count": 34,
      "outputs": [
        {
          "output_type": "execute_result",
          "data": {
            "text/html": [
              "<div>\n",
              "<style scoped>\n",
              "    .dataframe tbody tr th:only-of-type {\n",
              "        vertical-align: middle;\n",
              "    }\n",
              "\n",
              "    .dataframe tbody tr th {\n",
              "        vertical-align: top;\n",
              "    }\n",
              "\n",
              "    .dataframe thead th {\n",
              "        text-align: right;\n",
              "    }\n",
              "</style>\n",
              "<table border=\"1\" class=\"dataframe\">\n",
              "  <thead>\n",
              "    <tr style=\"text-align: right;\">\n",
              "      <th></th>\n",
              "      <th>sepal_length</th>\n",
              "      <th>sepal_width</th>\n",
              "      <th>petal_length</th>\n",
              "      <th>petal_width</th>\n",
              "      <th>species</th>\n",
              "    </tr>\n",
              "  </thead>\n",
              "  <tbody>\n",
              "    <tr>\n",
              "      <th>0</th>\n",
              "      <td>5.1</td>\n",
              "      <td>3.5</td>\n",
              "      <td>1.4</td>\n",
              "      <td>0.2</td>\n",
              "      <td>setosa</td>\n",
              "    </tr>\n",
              "    <tr>\n",
              "      <th>1</th>\n",
              "      <td>4.9</td>\n",
              "      <td>3.0</td>\n",
              "      <td>1.4</td>\n",
              "      <td>0.2</td>\n",
              "      <td>setosa</td>\n",
              "    </tr>\n",
              "    <tr>\n",
              "      <th>2</th>\n",
              "      <td>4.7</td>\n",
              "      <td>3.2</td>\n",
              "      <td>1.3</td>\n",
              "      <td>0.2</td>\n",
              "      <td>setosa</td>\n",
              "    </tr>\n",
              "    <tr>\n",
              "      <th>3</th>\n",
              "      <td>4.6</td>\n",
              "      <td>3.1</td>\n",
              "      <td>1.5</td>\n",
              "      <td>0.2</td>\n",
              "      <td>setosa</td>\n",
              "    </tr>\n",
              "    <tr>\n",
              "      <th>4</th>\n",
              "      <td>5.0</td>\n",
              "      <td>3.6</td>\n",
              "      <td>1.4</td>\n",
              "      <td>0.2</td>\n",
              "      <td>setosa</td>\n",
              "    </tr>\n",
              "  </tbody>\n",
              "</table>\n",
              "</div>"
            ],
            "text/plain": [
              "   sepal_length  sepal_width  petal_length  petal_width species\n",
              "0           5.1          3.5           1.4          0.2  setosa\n",
              "1           4.9          3.0           1.4          0.2  setosa\n",
              "2           4.7          3.2           1.3          0.2  setosa\n",
              "3           4.6          3.1           1.5          0.2  setosa\n",
              "4           5.0          3.6           1.4          0.2  setosa"
            ]
          },
          "metadata": {
            "tags": []
          },
          "execution_count": 34
        }
      ]
    },
    {
      "cell_type": "code",
      "metadata": {
        "id": "-8elwKg6Qs3h",
        "colab_type": "code",
        "colab": {
          "base_uri": "https://localhost:8080/",
          "height": 204
        },
        "outputId": "e47cc27a-5c19-4e83-9bfd-f7f979f57e15"
      },
      "source": [
        "df = df.drop('species',axis=1)\n",
        "df.head(5)"
      ],
      "execution_count": 35,
      "outputs": [
        {
          "output_type": "execute_result",
          "data": {
            "text/html": [
              "<div>\n",
              "<style scoped>\n",
              "    .dataframe tbody tr th:only-of-type {\n",
              "        vertical-align: middle;\n",
              "    }\n",
              "\n",
              "    .dataframe tbody tr th {\n",
              "        vertical-align: top;\n",
              "    }\n",
              "\n",
              "    .dataframe thead th {\n",
              "        text-align: right;\n",
              "    }\n",
              "</style>\n",
              "<table border=\"1\" class=\"dataframe\">\n",
              "  <thead>\n",
              "    <tr style=\"text-align: right;\">\n",
              "      <th></th>\n",
              "      <th>sepal_length</th>\n",
              "      <th>sepal_width</th>\n",
              "      <th>petal_length</th>\n",
              "      <th>petal_width</th>\n",
              "    </tr>\n",
              "  </thead>\n",
              "  <tbody>\n",
              "    <tr>\n",
              "      <th>0</th>\n",
              "      <td>5.1</td>\n",
              "      <td>3.5</td>\n",
              "      <td>1.4</td>\n",
              "      <td>0.2</td>\n",
              "    </tr>\n",
              "    <tr>\n",
              "      <th>1</th>\n",
              "      <td>4.9</td>\n",
              "      <td>3.0</td>\n",
              "      <td>1.4</td>\n",
              "      <td>0.2</td>\n",
              "    </tr>\n",
              "    <tr>\n",
              "      <th>2</th>\n",
              "      <td>4.7</td>\n",
              "      <td>3.2</td>\n",
              "      <td>1.3</td>\n",
              "      <td>0.2</td>\n",
              "    </tr>\n",
              "    <tr>\n",
              "      <th>3</th>\n",
              "      <td>4.6</td>\n",
              "      <td>3.1</td>\n",
              "      <td>1.5</td>\n",
              "      <td>0.2</td>\n",
              "    </tr>\n",
              "    <tr>\n",
              "      <th>4</th>\n",
              "      <td>5.0</td>\n",
              "      <td>3.6</td>\n",
              "      <td>1.4</td>\n",
              "      <td>0.2</td>\n",
              "    </tr>\n",
              "  </tbody>\n",
              "</table>\n",
              "</div>"
            ],
            "text/plain": [
              "   sepal_length  sepal_width  petal_length  petal_width\n",
              "0           5.1          3.5           1.4          0.2\n",
              "1           4.9          3.0           1.4          0.2\n",
              "2           4.7          3.2           1.3          0.2\n",
              "3           4.6          3.1           1.5          0.2\n",
              "4           5.0          3.6           1.4          0.2"
            ]
          },
          "metadata": {
            "tags": []
          },
          "execution_count": 35
        }
      ]
    },
    {
      "cell_type": "code",
      "metadata": {
        "id": "zJke9x4DOxNc",
        "colab_type": "code",
        "colab": {
          "base_uri": "https://localhost:8080/",
          "height": 1000
        },
        "outputId": "af59ee77-a595-403d-ca12-83836236145b"
      },
      "source": [
        "#create the transform\n",
        "pca = PCA(1)\n",
        "\n",
        "#fit transform\n",
        "pca.fit(df)\n",
        "\n",
        "#access values and vectors\n",
        "print(pca.components_)\n",
        "print(pca.explained_variance_)\n",
        "\n",
        "#transform data\n",
        "A = pca.transform(df)\n",
        "print(A)"
      ],
      "execution_count": 44,
      "outputs": [
        {
          "output_type": "stream",
          "text": [
            "[[ 0.36158968 -0.08226889  0.85657211  0.35884393]]\n",
            "[4.22484077]\n",
            "[[-2.68420713]\n",
            " [-2.71539062]\n",
            " [-2.88981954]\n",
            " [-2.7464372 ]\n",
            " [-2.72859298]\n",
            " [-2.27989736]\n",
            " [-2.82089068]\n",
            " [-2.62648199]\n",
            " [-2.88795857]\n",
            " [-2.67384469]\n",
            " [-2.50652679]\n",
            " [-2.61314272]\n",
            " [-2.78743398]\n",
            " [-3.22520045]\n",
            " [-2.64354322]\n",
            " [-2.38386932]\n",
            " [-2.6225262 ]\n",
            " [-2.64832273]\n",
            " [-2.19907796]\n",
            " [-2.58734619]\n",
            " [-2.3105317 ]\n",
            " [-2.54323491]\n",
            " [-3.21585769]\n",
            " [-2.30312854]\n",
            " [-2.35617109]\n",
            " [-2.50791723]\n",
            " [-2.469056  ]\n",
            " [-2.56239095]\n",
            " [-2.63982127]\n",
            " [-2.63284791]\n",
            " [-2.58846205]\n",
            " [-2.41007734]\n",
            " [-2.64763667]\n",
            " [-2.59715948]\n",
            " [-2.67384469]\n",
            " [-2.86699985]\n",
            " [-2.62522846]\n",
            " [-2.67384469]\n",
            " [-2.98184266]\n",
            " [-2.59032303]\n",
            " [-2.77013891]\n",
            " [-2.85221108]\n",
            " [-2.99829644]\n",
            " [-2.4055141 ]\n",
            " [-2.20883295]\n",
            " [-2.71566519]\n",
            " [-2.53757337]\n",
            " [-2.8403213 ]\n",
            " [-2.54268576]\n",
            " [-2.70391231]\n",
            " [ 1.28479459]\n",
            " [ 0.93241075]\n",
            " [ 1.46406132]\n",
            " [ 0.18096721]\n",
            " [ 1.08713449]\n",
            " [ 0.64043675]\n",
            " [ 1.09522371]\n",
            " [-0.75146714]\n",
            " [ 1.04329778]\n",
            " [-0.01019007]\n",
            " [-0.5110862 ]\n",
            " [ 0.51109806]\n",
            " [ 0.26233576]\n",
            " [ 0.98404455]\n",
            " [-0.174864  ]\n",
            " [ 0.92757294]\n",
            " [ 0.65959279]\n",
            " [ 0.23454059]\n",
            " [ 0.94236171]\n",
            " [ 0.0432464 ]\n",
            " [ 1.11624072]\n",
            " [ 0.35678657]\n",
            " [ 1.29646885]\n",
            " [ 0.92050265]\n",
            " [ 0.71400821]\n",
            " [ 0.89964086]\n",
            " [ 1.33104142]\n",
            " [ 1.55739627]\n",
            " [ 0.81245555]\n",
            " [-0.30733476]\n",
            " [-0.07034289]\n",
            " [-0.19188449]\n",
            " [ 0.13499495]\n",
            " [ 1.37873698]\n",
            " [ 0.58727485]\n",
            " [ 0.8072055 ]\n",
            " [ 1.22042897]\n",
            " [ 0.81286779]\n",
            " [ 0.24519516]\n",
            " [ 0.16451343]\n",
            " [ 0.46303099]\n",
            " [ 0.89016045]\n",
            " [ 0.22887905]\n",
            " [-0.70708128]\n",
            " [ 0.35553304]\n",
            " [ 0.33112695]\n",
            " [ 0.37523823]\n",
            " [ 0.64169028]\n",
            " [-0.90846333]\n",
            " [ 0.29780791]\n",
            " [ 2.53172698]\n",
            " [ 1.41407223]\n",
            " [ 2.61648461]\n",
            " [ 1.97081495]\n",
            " [ 2.34975798]\n",
            " [ 3.39687992]\n",
            " [ 0.51938325]\n",
            " [ 2.9320051 ]\n",
            " [ 2.31967279]\n",
            " [ 2.91813423]\n",
            " [ 1.66193495]\n",
            " [ 1.80234045]\n",
            " [ 2.16537886]\n",
            " [ 1.34459422]\n",
            " [ 1.5852673 ]\n",
            " [ 1.90474358]\n",
            " [ 1.94924878]\n",
            " [ 3.48876538]\n",
            " [ 3.79468686]\n",
            " [ 1.29832982]\n",
            " [ 2.42816726]\n",
            " [ 1.19809737]\n",
            " [ 3.49926548]\n",
            " [ 1.38766825]\n",
            " [ 2.27585365]\n",
            " [ 2.61419383]\n",
            " [ 1.25762518]\n",
            " [ 1.29066965]\n",
            " [ 2.12285398]\n",
            " [ 2.3875644 ]\n",
            " [ 2.84096093]\n",
            " [ 3.2323429 ]\n",
            " [ 2.15873837]\n",
            " [ 1.4431026 ]\n",
            " [ 1.77964011]\n",
            " [ 3.07652162]\n",
            " [ 2.14498686]\n",
            " [ 1.90486293]\n",
            " [ 1.16885347]\n",
            " [ 2.10765373]\n",
            " [ 2.31430339]\n",
            " [ 1.92245088]\n",
            " [ 1.41407223]\n",
            " [ 2.56332271]\n",
            " [ 2.41939122]\n",
            " [ 1.94401705]\n",
            " [ 1.52566363]\n",
            " [ 1.76404594]\n",
            " [ 1.90162908]\n",
            " [ 1.38966613]]\n"
          ],
          "name": "stdout"
        }
      ]
    },
    {
      "cell_type": "code",
      "metadata": {
        "id": "qNPakakZWeRN",
        "colab_type": "code",
        "colab": {
          "base_uri": "https://localhost:8080/",
          "height": 1000
        },
        "outputId": "76b81d5e-5a2c-4f39-ed16-6bc6c5aa4138"
      },
      "source": [
        "#create the transform\n",
        "pca = PCA(1)\n",
        "\n",
        "#fit transform\n",
        "pca.fit(df)\n",
        "\n",
        "#access values and vectors\n",
        "print(pca.components_)\n",
        "print(pca.explained_variance_)\n",
        "\n",
        "#transform data\n",
        "B = pca.transform(df)\n",
        "print(B)"
      ],
      "execution_count": 52,
      "outputs": [
        {
          "output_type": "stream",
          "text": [
            "[[ 0.36158968 -0.08226889  0.85657211  0.35884393]]\n",
            "[4.22484077]\n",
            "[[-2.68420713]\n",
            " [-2.71539062]\n",
            " [-2.88981954]\n",
            " [-2.7464372 ]\n",
            " [-2.72859298]\n",
            " [-2.27989736]\n",
            " [-2.82089068]\n",
            " [-2.62648199]\n",
            " [-2.88795857]\n",
            " [-2.67384469]\n",
            " [-2.50652679]\n",
            " [-2.61314272]\n",
            " [-2.78743398]\n",
            " [-3.22520045]\n",
            " [-2.64354322]\n",
            " [-2.38386932]\n",
            " [-2.6225262 ]\n",
            " [-2.64832273]\n",
            " [-2.19907796]\n",
            " [-2.58734619]\n",
            " [-2.3105317 ]\n",
            " [-2.54323491]\n",
            " [-3.21585769]\n",
            " [-2.30312854]\n",
            " [-2.35617109]\n",
            " [-2.50791723]\n",
            " [-2.469056  ]\n",
            " [-2.56239095]\n",
            " [-2.63982127]\n",
            " [-2.63284791]\n",
            " [-2.58846205]\n",
            " [-2.41007734]\n",
            " [-2.64763667]\n",
            " [-2.59715948]\n",
            " [-2.67384469]\n",
            " [-2.86699985]\n",
            " [-2.62522846]\n",
            " [-2.67384469]\n",
            " [-2.98184266]\n",
            " [-2.59032303]\n",
            " [-2.77013891]\n",
            " [-2.85221108]\n",
            " [-2.99829644]\n",
            " [-2.4055141 ]\n",
            " [-2.20883295]\n",
            " [-2.71566519]\n",
            " [-2.53757337]\n",
            " [-2.8403213 ]\n",
            " [-2.54268576]\n",
            " [-2.70391231]\n",
            " [ 1.28479459]\n",
            " [ 0.93241075]\n",
            " [ 1.46406132]\n",
            " [ 0.18096721]\n",
            " [ 1.08713449]\n",
            " [ 0.64043675]\n",
            " [ 1.09522371]\n",
            " [-0.75146714]\n",
            " [ 1.04329778]\n",
            " [-0.01019007]\n",
            " [-0.5110862 ]\n",
            " [ 0.51109806]\n",
            " [ 0.26233576]\n",
            " [ 0.98404455]\n",
            " [-0.174864  ]\n",
            " [ 0.92757294]\n",
            " [ 0.65959279]\n",
            " [ 0.23454059]\n",
            " [ 0.94236171]\n",
            " [ 0.0432464 ]\n",
            " [ 1.11624072]\n",
            " [ 0.35678657]\n",
            " [ 1.29646885]\n",
            " [ 0.92050265]\n",
            " [ 0.71400821]\n",
            " [ 0.89964086]\n",
            " [ 1.33104142]\n",
            " [ 1.55739627]\n",
            " [ 0.81245555]\n",
            " [-0.30733476]\n",
            " [-0.07034289]\n",
            " [-0.19188449]\n",
            " [ 0.13499495]\n",
            " [ 1.37873698]\n",
            " [ 0.58727485]\n",
            " [ 0.8072055 ]\n",
            " [ 1.22042897]\n",
            " [ 0.81286779]\n",
            " [ 0.24519516]\n",
            " [ 0.16451343]\n",
            " [ 0.46303099]\n",
            " [ 0.89016045]\n",
            " [ 0.22887905]\n",
            " [-0.70708128]\n",
            " [ 0.35553304]\n",
            " [ 0.33112695]\n",
            " [ 0.37523823]\n",
            " [ 0.64169028]\n",
            " [-0.90846333]\n",
            " [ 0.29780791]\n",
            " [ 2.53172698]\n",
            " [ 1.41407223]\n",
            " [ 2.61648461]\n",
            " [ 1.97081495]\n",
            " [ 2.34975798]\n",
            " [ 3.39687992]\n",
            " [ 0.51938325]\n",
            " [ 2.9320051 ]\n",
            " [ 2.31967279]\n",
            " [ 2.91813423]\n",
            " [ 1.66193495]\n",
            " [ 1.80234045]\n",
            " [ 2.16537886]\n",
            " [ 1.34459422]\n",
            " [ 1.5852673 ]\n",
            " [ 1.90474358]\n",
            " [ 1.94924878]\n",
            " [ 3.48876538]\n",
            " [ 3.79468686]\n",
            " [ 1.29832982]\n",
            " [ 2.42816726]\n",
            " [ 1.19809737]\n",
            " [ 3.49926548]\n",
            " [ 1.38766825]\n",
            " [ 2.27585365]\n",
            " [ 2.61419383]\n",
            " [ 1.25762518]\n",
            " [ 1.29066965]\n",
            " [ 2.12285398]\n",
            " [ 2.3875644 ]\n",
            " [ 2.84096093]\n",
            " [ 3.2323429 ]\n",
            " [ 2.15873837]\n",
            " [ 1.4431026 ]\n",
            " [ 1.77964011]\n",
            " [ 3.07652162]\n",
            " [ 2.14498686]\n",
            " [ 1.90486293]\n",
            " [ 1.16885347]\n",
            " [ 2.10765373]\n",
            " [ 2.31430339]\n",
            " [ 1.92245088]\n",
            " [ 1.41407223]\n",
            " [ 2.56332271]\n",
            " [ 2.41939122]\n",
            " [ 1.94401705]\n",
            " [ 1.52566363]\n",
            " [ 1.76404594]\n",
            " [ 1.90162908]\n",
            " [ 1.38966613]]\n"
          ],
          "name": "stdout"
        }
      ]
    },
    {
      "cell_type": "code",
      "metadata": {
        "id": "CZqOBSkhVjWe",
        "colab_type": "code",
        "colab": {
          "base_uri": "https://localhost:8080/",
          "height": 281
        },
        "outputId": "e6d6aff8-f0e4-4833-f404-f8498b6e44d2"
      },
      "source": [
        "plt.scatter(A, B)\n",
        "plt.title(\"PCA Graph\")\n",
        "plt.show()"
      ],
      "execution_count": 54,
      "outputs": [
        {
          "output_type": "display_data",
          "data": {
            "image/png": "[encoded data removed]",
            "text/plain": [
              "<Figure size 432x288 with 1 Axes>"
            ]
          },
          "metadata": {
            "tags": []
          }
        }
      ]
    },
    {
      "cell_type": "markdown",
      "metadata": {
        "id": "RQx7UvsucIrL",
        "colab_type": "text"
      },
      "source": [
        "# Stretch Goal\n",
        "\n",
        "## 1) Do NOT work on the stretch goal until you feel like you have a firm grasp of eigenvectors, eigenvalues, and PCA. Prioritize self-study over the stretch goal if you are not comfortable with those topics yet.\n",
        "\n",
        "## 2) Explore further the intuition behind eigenvalues and eigenvectors by creating your very own eigenfaces:\n",
        "\n",
        "<center>![Eigenfaces](https://i.pinimg.com/236x/1c/f1/01/1cf101a9859437a5d096a04b05be06b4--faces-tattoo.jpg)</center>\n",
        "\n",
        "You don't necessarily have to use this resource, but this will get you started: \n",
        "[Eigenface Tutorial](https://sandipanweb.wordpress.com/2018/01/06/eigenfaces-and-a-simple-face-detector-with-pca-svd-in-python/)"
      ]
    }
  ]
}