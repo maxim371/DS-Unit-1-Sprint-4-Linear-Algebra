{
  "nbformat": 4,
  "nbformat_minor": 0,
  "metadata": {
    "colab": {
      "name": "Copy of Print Debugging - Time Slot Planner Code Challenge.ipynb",
      "version": "0.3.2",
      "provenance": [],
      "collapsed_sections": [],
      "include_colab_link": true
    },
    "kernelspec": {
      "name": "python3",
      "display_name": "Python 3"
    }
  },
  "cells": [
    {
      "cell_type": "markdown",
      "metadata": {
        "id": "view-in-github",
        "colab_type": "text"
      },
      "source": [
        "<a href=\"https://colab.research.google.com/github/maxim371/DS-Unit-1-Sprint-4-Linear-Algebra/blob/master/Copy_of_Print_Debugging_Time_Slot_Planner_Code_Challenge.ipynb\" target=\"_parent\"><img src=\"https://colab.research.google.com/assets/colab-badge.svg\" alt=\"Open In Colab\"/></a>"
      ]
    },
    {
      "cell_type": "markdown",
      "metadata": {
        "id": "DaSm4XWBfUOk",
        "colab_type": "text"
      },
      "source": [
        "Implement a time planner that receives the availability of two people and a duration. The time planner should return the earliest time slot that matches the given duration where both people have availability. If there is no common time slot that satisfies these requirements, return None.\n",
        "\n",
        "Each person's availability will be a list of tuples, with the first tuple element representing the start time of a time slot, and the second tuple element representing the end time of that time slot. The input variable dur is a positive integer that represents the duration of a meeting in seconds. The output should be a tuple with the appropriate start time and end time.\n",
        "\n",
        "Examples:\n",
        "\n",
        "input: a = [(10, 50), (60, 120), (140, 210)]         \n",
        "\n",
        "       b = [(0, 15), (60, 70)]         \n",
        "\n",
        "       dur = 8 \n",
        "\n",
        "output: (60, 68)  \n",
        "\n",
        "\n",
        "input: a = [(10, 50), (60, 120), (140, 210)]         \n",
        "\n",
        "       b = [(0, 15), (60, 70)]         \n",
        "\n",
        "       dur = 12 \n",
        "\n",
        "output: None # since there is no common slot\n",
        "\n",
        "\n",
        "These example inputs are obviously not realistic input numbers for representing meeting times. Ideally the inputs would consist of Unix epoch timestamps, but those are very large numbers to have to type out over and over again, so we're just going to fake that part. If your function works with these faux inputs, it will work just fine with Unix timestamps. "
      ]
    },
    {
      "cell_type": "code",
      "metadata": {
        "id": "yO7i02HGeJIW",
        "colab_type": "code",
        "colab": {}
      },
      "source": [
        "def time_planner(a, b, dur):\n",
        "  a_count, b_count = 0, 0\n",
        "  \n",
        "  while a_count < len(a) and b_count < len(b):\n",
        "    start = max(a[a_count][0], b[b_count][0])\n",
        "    end = min(a[a_count][1], b[b_count][1])\n",
        "    \n",
        "    if start + dur <= end:\n",
        "      return (start, start + dur)\n",
        "      \n",
        "    if a[a_count][1] < b[b_count][1]:\n",
        "      a_count += 1\n",
        "    else:\n",
        "      b_count += 1\n",
        "      \n",
        "  return None"
      ],
      "execution_count": 0,
      "outputs": []
    },
    {
      "cell_type": "code",
      "metadata": {
        "id": "kTTW3XbgnEOJ",
        "colab_type": "code",
        "outputId": "996bd313-0b38-432f-f0b0-b2adff67aaee",
        "colab": {
          "base_uri": "https://localhost:8080/",
          "height": 72
        }
      },
      "source": [
        "# O(m+n)\n",
        "%%time\n",
        "time_planner(a = [(10, 50), (60, 120), (140, 210)], b = [(0, 15), (60, 70)], dur = 8)"
      ],
      "execution_count": 0,
      "outputs": [
        {
          "output_type": "stream",
          "text": [
            "CPU times: user 12 µs, sys: 2 µs, total: 14 µs\n",
            "Wall time: 16.2 µs\n"
          ],
          "name": "stdout"
        },
        {
          "output_type": "execute_result",
          "data": {
            "text/plain": [
              "(60, 68)"
            ]
          },
          "metadata": {
            "tags": []
          },
          "execution_count": 3
        }
      ]
    },
    {
      "cell_type": "code",
      "metadata": {
        "id": "4H5wP2yupaHs",
        "colab_type": "code",
        "colab": {}
      },
      "source": [
        "def time_planner(a, b, dur):\n",
        "  a_count, b_count = 0, 0\n",
        "  \n",
        "  while a_count < len(a) and b_count < len(b):\n",
        "    print('a_count:',a_count)\n",
        "    print('b_count:',b_count)\n",
        "    \n",
        "    start = max(a[a_count][0], b[b_count][0])\n",
        "    end = min(a[a_count][1], b[b_count][1])\n",
        "    \n",
        "    print('start:',start)\n",
        "    print('end:',end)\n",
        "    \n",
        "    if start + dur <= end:\n",
        "      print('Solution')\n",
        "      return (start, start + dur)\n",
        "      \n",
        "    if a[a_count][1] < b[b_count][1]:\n",
        "      print('Increment a_count\\n')\n",
        "      a_count += 1\n",
        "    else:\n",
        "      print('Increment b_count\\n')\n",
        "      b_count += 1\n",
        "      \n",
        "  print('No solution')    \n",
        "  return None"
      ],
      "execution_count": 0,
      "outputs": []
    },
    {
      "cell_type": "code",
      "metadata": {
        "id": "VS0hvvIZtnS_",
        "colab_type": "code",
        "outputId": "39e98555-fd42-4a5d-b4a0-d3a5c647d7da",
        "colab": {
          "base_uri": "https://localhost:8080/",
          "height": 345
        }
      },
      "source": [
        "time_planner(a = [(10, 50), (60, 120), (140, 210)], b = [(0, 15), (60, 70)], dur = 8)"
      ],
      "execution_count": 0,
      "outputs": [
        {
          "output_type": "stream",
          "text": [
            "a_count: 0\n",
            "b_count: 0\n",
            "start: 10\n",
            "end: 15\n",
            "Increment b_count\n",
            "\n",
            "a_count: 0\n",
            "b_count: 1\n",
            "start: 60\n",
            "end: 50\n",
            "Increment a_count\n",
            "\n",
            "a_count: 1\n",
            "b_count: 1\n",
            "start: 60\n",
            "end: 70\n",
            "Solution\n"
          ],
          "name": "stdout"
        },
        {
          "output_type": "execute_result",
          "data": {
            "text/plain": [
              "(60, 68)"
            ]
          },
          "metadata": {
            "tags": []
          },
          "execution_count": 6
        }
      ]
    },
    {
      "cell_type": "code",
      "metadata": {
        "id": "7TriMiOstqiZ",
        "colab_type": "code",
        "outputId": "cc563db9-4ec3-4ebb-c1e0-32601bec6c6b",
        "colab": {
          "base_uri": "https://localhost:8080/",
          "height": 363
        }
      },
      "source": [
        "time_planner(a = [(10, 50), (60, 120), (140, 210)], b = [(0, 15), (60, 70)], dur = 12)"
      ],
      "execution_count": 0,
      "outputs": [
        {
          "output_type": "stream",
          "text": [
            "a_count: 0\n",
            "b_count: 0\n",
            "start: 10\n",
            "end: 15\n",
            "Increment b_count\n",
            "\n",
            "a_count: 0\n",
            "b_count: 1\n",
            "start: 60\n",
            "end: 50\n",
            "Increment a_count\n",
            "\n",
            "a_count: 1\n",
            "b_count: 1\n",
            "start: 60\n",
            "end: 70\n",
            "Increment b_count\n",
            "\n",
            "No solution\n"
          ],
          "name": "stdout"
        }
      ]
    },
    {
      "cell_type": "code",
      "metadata": {
        "id": "2uBnaoVDuNHx",
        "colab_type": "code",
        "colab": {}
      },
      "source": [
        ""
      ],
      "execution_count": 0,
      "outputs": []
    }
  ]
}